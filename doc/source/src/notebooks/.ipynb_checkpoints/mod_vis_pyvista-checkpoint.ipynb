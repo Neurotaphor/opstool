{
 "cells": [
  {
   "cell_type": "markdown",
   "metadata": {},
   "source": [
    "# Visualization based on pyvista"
   ]
  },
  {
   "cell_type": "markdown",
   "metadata": {},
   "source": [
    "## Display OpenSeesPy Model"
   ]
  },
  {
   "cell_type": "raw",
   "metadata": {
    "raw_mimetype": "text/restructuredtext",
    "tags": []
   },
   "source": [
    "\n",
    "First load the necessary classes and functions, where :py:class:`~opstool.vis.GetFEMdata` is used to get the model data from the current domain of OpenSeesPy, \n",
    "and :py:class:`~opstool.vis.OpsVisPyvista` is used to visualize the model.\n",
    "Function :py:func:`~opstool.load_ops_examples` is used to load predefined examples from **opstool**."
   ]
  },
  {
   "cell_type": "code",
   "execution_count": 1,
   "metadata": {
    "execution": {
     "iopub.execute_input": "2022-12-31T10:36:17.550809Z",
     "iopub.status.busy": "2022-12-31T10:36:17.550809Z",
     "iopub.status.idle": "2022-12-31T10:36:18.185954Z",
     "shell.execute_reply": "2022-12-31T10:36:18.185623Z",
     "shell.execute_reply.started": "2022-12-31T10:36:17.550809Z"
    },
    "tags": []
   },
   "outputs": [],
   "source": [
    "import openseespy.opensees as ops\n",
    "from opstool.vis import GetFEMdata, OpsVisPyvista\n",
    "from opstool import load_ops_examples"
   ]
  },
  {
   "cell_type": "markdown",
   "metadata": {},
   "source": [
    "Load the 3D Arch Bridge finite element model."
   ]
  },
  {
   "cell_type": "code",
   "execution_count": 2,
   "metadata": {
    "execution": {
     "iopub.execute_input": "2022-12-31T10:36:21.954022Z",
     "iopub.status.busy": "2022-12-31T10:36:21.954022Z",
     "iopub.status.idle": "2022-12-31T10:36:21.988731Z",
     "shell.execute_reply": "2022-12-31T10:36:21.988247Z",
     "shell.execute_reply.started": "2022-12-31T10:36:21.954022Z"
    },
    "tags": []
   },
   "outputs": [],
   "source": [
    "load_ops_examples(\"ArchBridge\")"
   ]
  },
  {
   "cell_type": "raw",
   "metadata": {
    "raw_mimetype": "text/restructuredtext",
    "tags": []
   },
   "source": [
    "Get the model data from the current domain. Of course, you can also run your own model code before instantiating :py:class:`~opstool.vis.GetFEMdata`.\n",
    "Parameter *results_dir* is used to specify the directory where the output file is saved."
   ]
  },
  {
   "cell_type": "code",
   "execution_count": 3,
   "metadata": {
    "execution": {
     "iopub.execute_input": "2022-12-31T10:36:44.549786Z",
     "iopub.status.busy": "2022-12-31T10:36:44.548783Z",
     "iopub.status.idle": "2022-12-31T10:36:44.629118Z",
     "shell.execute_reply": "2022-12-31T10:36:44.629118Z",
     "shell.execute_reply.started": "2022-12-31T10:36:44.549786Z"
    },
    "tags": []
   },
   "outputs": [
    {
     "name": "stdout",
     "output_type": "stream",
     "text": [
      "Model data saved in opstool_output/ModelData.hdf5 !\n"
     ]
    }
   ],
   "source": [
    "ModelData = GetFEMdata(results_dir=\"opstool_output\")\n",
    "ModelData.get_model_data(save_file=\"ModelData.hdf5\")"
   ]
  },
  {
   "cell_type": "raw",
   "metadata": {
    "raw_mimetype": "text/restructuredtext",
    "tags": []
   },
   "source": [
    "Instantiating visualization class :py:class:`~opstool.vis.OpsVisPyvista`."
   ]
  },
  {
   "cell_type": "code",
   "execution_count": 4,
   "metadata": {
    "execution": {
     "iopub.execute_input": "2022-12-31T10:37:09.058796Z",
     "iopub.status.busy": "2022-12-31T10:37:09.058169Z",
     "iopub.status.idle": "2022-12-31T10:37:09.230134Z",
     "shell.execute_reply": "2022-12-31T10:37:09.230134Z",
     "shell.execute_reply.started": "2022-12-31T10:37:09.058796Z"
    },
    "tags": []
   },
   "outputs": [],
   "source": [
    "opsv = OpsVisPyvista(point_size=2, line_width=3, colors_dict=None, theme=\"paraview\",\n",
    "                     color_map=\"coolwarm\", on_notebook=False, results_dir=\"opstool_output\")"
   ]
  },
  {
   "cell_type": "raw",
   "metadata": {
    "raw_mimetype": "text/restructuredtext",
    "tags": []
   },
   "source": [
    "Display the geometric information of the model, Input parameter explanation see class method :py:meth:`~opstool.vis.OpsVisPyvista.model_vis`."
   ]
  },
  {
   "cell_type": "code",
   "execution_count": 5,
   "metadata": {
    "execution": {
     "iopub.execute_input": "2022-12-31T10:37:23.453967Z",
     "iopub.status.busy": "2022-12-31T10:37:23.453967Z",
     "iopub.status.idle": "2022-12-31T10:37:42.410801Z",
     "shell.execute_reply": "2022-12-31T10:37:42.409684Z",
     "shell.execute_reply.started": "2022-12-31T10:37:23.453967Z"
    },
    "tags": []
   },
   "outputs": [],
   "source": [
    "opsv.model_vis(input_file=\"ModelData.hdf5\",\n",
    "               show_node_label=False, show_ele_label=False,\n",
    "               show_local_crd=True, label_size=8,\n",
    "               show_outline=True,\n",
    "               opacity=1.0,\n",
    "               save_fig='images/ModelVis.svg')"
   ]
  },
  {
   "cell_type": "raw",
   "metadata": {
    "raw_mimetype": "text/restructuredtext",
    "tags": []
   },
   "source": [
    ".. image:: images/ModelVis.svg\n",
    "    :align: center"
   ]
  },
  {
   "cell_type": "markdown",
   "metadata": {},
   "source": [
    "## Display Eigen Analysis"
   ]
  },
  {
   "cell_type": "markdown",
   "metadata": {},
   "source": [
    "<div class=\"alert alert-info\">\n",
    "\n",
    "Note\n",
    "\n",
    "Before performing the eigenvalue analysis, you need to ensure that the OpenSeesPy model is correct and that the mass is set.\n",
    "\n",
    "</div>"
   ]
  },
  {
   "cell_type": "markdown",
   "metadata": {},
   "source": [
    "Obtain the first 15 orders of modal data."
   ]
  },
  {
   "cell_type": "code",
   "execution_count": 6,
   "metadata": {
    "execution": {
     "iopub.execute_input": "2022-12-31T10:38:05.929439Z",
     "iopub.status.busy": "2022-12-31T10:38:05.929439Z",
     "iopub.status.idle": "2022-12-31T10:38:06.166773Z",
     "shell.execute_reply": "2022-12-31T10:38:06.166276Z",
     "shell.execute_reply.started": "2022-12-31T10:38:05.929439Z"
    },
    "tags": []
   },
   "outputs": [
    {
     "name": "stdout",
     "output_type": "stream",
     "text": [
      "Eigen data saved in opstool_output/EigenData.hdf5 !\n"
     ]
    }
   ],
   "source": [
    "ModelData.get_eigen_data(mode_tag=15, solver=\"-genBandArpack\",\n",
    "                         save_file='EigenData.hdf5')"
   ]
  },
  {
   "cell_type": "raw",
   "metadata": {
    "raw_mimetype": "text/restructuredtext",
    "tags": []
   },
   "source": [
    "Visualize eigenvalue modes. When you set a two-element list for the argument *mode_tags* and *subplots* is False, the method :py:meth:`~opstool.vis.OpsVisPyvista.eigen_vis` returns a slider-style plot."
   ]
  },
  {
   "cell_type": "code",
   "execution_count": 7,
   "metadata": {
    "execution": {
     "iopub.execute_input": "2022-12-31T10:38:25.469108Z",
     "iopub.status.busy": "2022-12-31T10:38:25.469108Z",
     "iopub.status.idle": "2022-12-31T10:38:36.699940Z",
     "shell.execute_reply": "2022-12-31T10:38:36.699632Z",
     "shell.execute_reply.started": "2022-12-31T10:38:25.469108Z"
    },
    "tags": []
   },
   "outputs": [],
   "source": [
    "opsv.eigen_vis(input_file='EigenData.hdf5',\n",
    "               mode_tags=[1, 9], subplots=False,\n",
    "               alpha=None, show_outline=False,\n",
    "               show_origin=False, opacity=1.0,\n",
    "               show_face_line=False, save_fig='images/EigenVis.svg')"
   ]
  },
  {
   "cell_type": "raw",
   "metadata": {
    "raw_mimetype": "text/restructuredtext",
    "tags": []
   },
   "source": [
    ".. image:: images/EigenVis.svg\n",
    "    :align: center"
   ]
  },
  {
   "cell_type": "markdown",
   "metadata": {},
   "source": [
    "Of course, *subplots* set to True will return a multi-sub plot."
   ]
  },
  {
   "cell_type": "code",
   "execution_count": 8,
   "metadata": {
    "execution": {
     "iopub.execute_input": "2022-12-31T10:38:52.929265Z",
     "iopub.status.busy": "2022-12-31T10:38:52.929265Z",
     "iopub.status.idle": "2022-12-31T10:38:57.079078Z",
     "shell.execute_reply": "2022-12-31T10:38:57.078689Z",
     "shell.execute_reply.started": "2022-12-31T10:38:52.929265Z"
    },
    "tags": []
   },
   "outputs": [],
   "source": [
    "opsv.eigen_vis(input_file='EigenData.hdf5',\n",
    "               mode_tags=[2, 11], subplots=True,\n",
    "               alpha=None, show_outline=False,\n",
    "               show_origin=False, opacity=1.0,\n",
    "               show_face_line=False, save_fig='images/EigenVis2.svg')"
   ]
  },
  {
   "cell_type": "raw",
   "metadata": {
    "raw_mimetype": "text/restructuredtext",
    "tags": []
   },
   "source": [
    ".. image:: images/EigenVis2.svg\n",
    "    :align: center"
   ]
  },
  {
   "cell_type": "raw",
   "metadata": {
    "raw_mimetype": "text/restructuredtext",
    "tags": []
   },
   "source": [
    "You can also create an gif or mp4 animation by :py:meth:`~opstool.vis.OpsVisPyvista.eigen_anim`."
   ]
  },
  {
   "cell_type": "raw",
   "metadata": {
    "execution": {
     "iopub.execute_input": "2022-12-07T12:55:22.855241Z",
     "iopub.status.busy": "2022-12-07T12:55:22.855241Z",
     "iopub.status.idle": "2022-12-07T12:55:27.305242Z",
     "shell.execute_reply": "2022-12-07T12:55:27.305242Z",
     "shell.execute_reply.started": "2022-12-07T12:55:22.855241Z"
    },
    "raw_mimetype": "text/restructuredtext",
    "tags": []
   },
   "source": [
    "\n",
    ".. code-block:: python\n",
    "\n",
    "    opsv.eigen_anim(input_file='EigenData.hdf5',\n",
    "                    mode_tag=6, alpha=None, show_outline=False,\n",
    "                    opacity=1, framerate=3,\n",
    "                    show_face_line=True,\n",
    "                    save_fig=\"images/EigenAnimation.gif\")\n"
   ]
  },
  {
   "cell_type": "raw",
   "metadata": {
    "raw_mimetype": "text/restructuredtext",
    "tags": []
   },
   "source": [
    ".. image:: images/EigenAnimation.gif\n",
    "    :alt: StreamPlayer\n",
    "    :align: center"
   ]
  },
  {
   "cell_type": "markdown",
   "metadata": {},
   "source": [
    "## Display Node Deformation"
   ]
  },
  {
   "cell_type": "raw",
   "metadata": {
    "raw_mimetype": "text/restructuredtext",
    "tags": []
   },
   "source": [
    "First we use the function :py:func:`~opstool.preprocessing.gen_grav_load` to generate the gravity load."
   ]
  },
  {
   "cell_type": "code",
   "execution_count": 9,
   "metadata": {
    "execution": {
     "iopub.execute_input": "2022-12-31T10:39:27.407457Z",
     "iopub.status.busy": "2022-12-31T10:39:27.407457Z",
     "iopub.status.idle": "2022-12-31T10:39:27.691457Z",
     "shell.execute_reply": "2022-12-31T10:39:27.690635Z",
     "shell.execute_reply.started": "2022-12-31T10:39:27.407457Z"
    },
    "tags": []
   },
   "outputs": [],
   "source": [
    "from opstool.preprocessing import gen_grav_load\n",
    "gen_grav_load(ts_tag=1, pattern_tag=1,\n",
    "              factor=-9.81, direction=\"Z\")"
   ]
  },
  {
   "cell_type": "raw",
   "metadata": {
    "raw_mimetype": "text/restructuredtext",
    "tags": []
   },
   "source": [
    "Next, we save the node response data in each analysis step. I chose to do this to strip the visualization from the analysis, and you are free to tweak the analysis parameters, which is very helpful for debugging the convergence of the model!\n",
    "\n",
    "Note that you must enter parameters *analysis_tag* and *num_steps*, the former to identify the different analysis types and the latter to tell :py:meth:`~opstool.vis.GetFEMdata.get_node_resp_step` how many steps to output the data after.\n",
    "In addition, it is also used :py:meth:`~opstool.vis.GetFEMdata.get_frame_resp_step` here to obtain the response data of the frame elements.\n",
    "\n",
    "If you cannot determine *num_steps* (eg adaptive step analysis), you can also use parameter `total_time`, which is the final time of the analysis. You can specify one of the parameters *num_steps* and `total_time`.\n",
    "If both are used, it depends on which one arrives first."
   ]
  },
  {
   "cell_type": "code",
   "execution_count": 10,
   "metadata": {
    "execution": {
     "iopub.execute_input": "2022-12-31T10:39:58.787393Z",
     "iopub.status.busy": "2022-12-31T10:39:58.787393Z",
     "iopub.status.idle": "2022-12-31T10:40:00.692894Z",
     "shell.execute_reply": "2022-12-31T10:40:00.692894Z",
     "shell.execute_reply.started": "2022-12-31T10:39:58.787393Z"
    },
    "tags": []
   },
   "outputs": [
    {
     "name": "stdout",
     "output_type": "stream",
     "text": [
      "Node response data saved in opstool_output/NodeRespStepData-1.hdf5!\n",
      "Frame elements response data saved in opstool_output/BeamRespStepData-1.hdf5!\n"
     ]
    }
   ],
   "source": [
    "Nsteps = 10\n",
    "ops.wipeAnalysis()\n",
    "ops.system('BandGeneral')\n",
    "ops.constraints('Transformation')\n",
    "ops.numberer('RCM')\n",
    "ops.test('NormDispIncr', 1.0e-12, 10, 3)\n",
    "ops.algorithm('Newton')\n",
    "ops.integrator('LoadControl', 1 / Nsteps)\n",
    "ops.analysis('Static')\n",
    "\n",
    "# Important!!!! to clear step data in previous analysis case!\n",
    "ModelData.reset_steps_state()\n",
    "# start analysis loop\n",
    "for i in range(Nsteps):\n",
    "    ok = ops.analyze(1)\n",
    "    ModelData.get_node_resp_step(num_steps=Nsteps,\n",
    "                                 total_time=10000000000,\n",
    "                                 stop_cond=False,\n",
    "                                 save_file=\"NodeRespStepData-1.hdf5\",\n",
    "                                 model_update=False)\n",
    "    ModelData.get_frame_resp_step(num_steps=Nsteps,\n",
    "                                  total_time=10000000000,\n",
    "                                  stop_cond=False,\n",
    "                                  save_file=\"BeamRespStepData-1.hdf5\")"
   ]
  },
  {
   "cell_type": "raw",
   "metadata": {
    "raw_mimetype": "text/restructuredtext",
    "tags": []
   },
   "source": [
    "Visualize node displacement by method :py:meth:`~opstool.vis.OpsVisPyvista.deform_vis`. Of course, velocity and acceleration are also optional, just change *response* to \"vel\" or \"accel\"."
   ]
  },
  {
   "cell_type": "code",
   "execution_count": 11,
   "metadata": {
    "execution": {
     "iopub.execute_input": "2022-12-31T10:40:36.051560Z",
     "iopub.status.busy": "2022-12-31T10:40:36.051560Z",
     "iopub.status.idle": "2022-12-31T10:40:43.645619Z",
     "shell.execute_reply": "2022-12-31T10:40:43.645375Z",
     "shell.execute_reply.started": "2022-12-31T10:40:36.051560Z"
    },
    "tags": []
   },
   "outputs": [],
   "source": [
    "opsv.deform_vis(input_file=\"NodeRespStepData-1.hdf5\",\n",
    "                slider=True,\n",
    "                response=\"disp\", alpha=None,\n",
    "                show_outline=False, show_origin=True,\n",
    "                show_face_line=False, opacity=1,\n",
    "                save_fig=\"images/DefoVis.svg\",\n",
    "                model_update=False)"
   ]
  },
  {
   "cell_type": "raw",
   "metadata": {
    "raw_mimetype": "text/restructuredtext",
    "tags": []
   },
   "source": [
    ".. image:: images/DefoVis.svg\n",
    "    :align: center"
   ]
  },
  {
   "cell_type": "raw",
   "metadata": {
    "raw_mimetype": "text/restructuredtext",
    "tags": []
   },
   "source": [
    "Create an html animation by :py:meth:`~opstool.vis.OpsVisPyvista.deform_anim`."
   ]
  },
  {
   "cell_type": "raw",
   "metadata": {
    "execution": {
     "iopub.execute_input": "2022-12-07T12:55:33.425393Z",
     "iopub.status.busy": "2022-12-07T12:55:33.424389Z",
     "iopub.status.idle": "2022-12-07T12:55:35.478081Z",
     "shell.execute_reply": "2022-12-07T12:55:35.478081Z",
     "shell.execute_reply.started": "2022-12-07T12:55:33.425393Z"
    },
    "raw_mimetype": "text/restructuredtext",
    "tags": []
   },
   "source": [
    "\n",
    ".. code-block:: python\n",
    "\n",
    "    opsv.deform_anim(input_file=\"NodeRespStepData-1.hdf5\",\n",
    "                     response=\"disp\", alpha=None,\n",
    "                     show_outline=False,\n",
    "                     framerate=2,\n",
    "                     show_face_line=False, opacity=1,\n",
    "                     save_fig=\"images/DefoAnimation.gif\",\n",
    "                     model_update=False)\n"
   ]
  },
  {
   "cell_type": "raw",
   "metadata": {
    "raw_mimetype": "text/restructuredtext",
    "tags": []
   },
   "source": [
    ".. image:: images/DefoAnimation.gif\n",
    "    :alt: StreamPlayer\n",
    "    :align: center"
   ]
  },
  {
   "cell_type": "markdown",
   "metadata": {},
   "source": [
    "## Display Frame Element Response"
   ]
  },
  {
   "cell_type": "raw",
   "metadata": {
    "raw_mimetype": "text/restructuredtext",
    "tags": []
   },
   "source": [
    "When saving the node response data, we also save the response of the frame elemengts by method :py:meth:`~opstool.vis.GetFEMdata.get_frame_resp_step`, which you can visualize in the following way."
   ]
  },
  {
   "cell_type": "code",
   "execution_count": 12,
   "metadata": {
    "execution": {
     "iopub.execute_input": "2022-12-31T10:41:22.335364Z",
     "iopub.status.busy": "2022-12-31T10:41:22.335364Z",
     "iopub.status.idle": "2022-12-31T10:41:31.715174Z",
     "shell.execute_reply": "2022-12-31T10:41:31.714981Z",
     "shell.execute_reply.started": "2022-12-31T10:41:22.335364Z"
    },
    "tags": []
   },
   "outputs": [],
   "source": [
    "opsv.frame_resp_vis(input_file=\"BeamRespStepData-1.hdf5\",\n",
    "                    ele_tags=None,\n",
    "                    slider=True,\n",
    "                    response=\"My\",\n",
    "                    show_values=False,\n",
    "                    alpha=None,\n",
    "                    opacity=1,\n",
    "                    save_fig=\"images/FrameRespVis.svg\")"
   ]
  },
  {
   "cell_type": "raw",
   "metadata": {
    "raw_mimetype": "text/restructuredtext",
    "tags": []
   },
   "source": [
    ".. image:: images/FrameRespVis.svg\n",
    "    :align: center"
   ]
  }
 ],
 "metadata": {
  "kernelspec": {
   "display_name": "Python 3 (ipykernel)",
   "language": "python",
   "name": "python3"
  },
  "language_info": {
   "codemirror_mode": {
    "name": "ipython",
    "version": 3
   },
   "file_extension": ".py",
   "mimetype": "text/x-python",
   "name": "python",
   "nbconvert_exporter": "python",
   "pygments_lexer": "ipython3",
   "version": "3.9.15"
  },
  "toc-autonumbering": true,
  "vscode": {
   "interpreter": {
    "hash": "f7a9b8f8690f520d36b7cd58879dbcd97545c5eb0452dadad5bd7e9f8ca42860"
   }
  }
 },
 "nbformat": 4,
 "nbformat_minor": 4
}
