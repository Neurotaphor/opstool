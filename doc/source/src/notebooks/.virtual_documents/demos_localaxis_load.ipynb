import opstool as opst


opst.load_ops_examples("Frame3D2")


opst.plot_model(backend="plotly", show_local_crd=True, local_crd_alpha=1.2,
                show_outline=False)


opst.gen_grav_load(ts_tag=1, pattern_tag=1, direction="Z", factor=-9810)


opst.plot_model(backend="plotly", show_load=True, load_alpha=1.2,
                show_outline=False)
