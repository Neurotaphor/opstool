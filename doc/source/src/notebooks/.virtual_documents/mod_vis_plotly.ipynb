import openseespy.opensees as ops
import opstool as opst


opst.load_ops_examples("ArchBridge2") 
# or your openseespy code
# your openseespy code here


ModelData = opst.GetFEMdata(results_dir="opstool_output")
ModelData.get_model_data(save_file="ModelData.hdf5")


opsvis = opst.OpsVisPlotly(point_size=2, line_width=3, colors_dict=None, theme="plotly",
                           color_map="jet", results_dir="opstool_output")


fig = opsvis.model_vis(input_file="ModelData.hdf5",
                 show_node_label=False,
                 show_ele_label=False,
                 show_local_crd=True,
                 show_fix_node=True,
                 show_constrain_dof=False,
                 label_size=8,
                 show_outline=True,
                 opacity=1.0)
fig.show()
# fig.write_html("ModelData.htmlData.html", auto_open=True)
# You can change the function parameters to see the effect after changes.


ModelData.get_eigen_data(mode_tag=15, solver="-genBandArpack",
                         save_file='EigenData.hdf5')


fig = opsvis.eigen_vis(input_file='EigenData.hdf5',
                 mode_tags=[1, 9], subplots=False,
                 alpha=1.0, show_outline=False,
                 show_origin=False, opacity=1.0,
                 show_face_line=False)
fig.show()


fig = opsvis.eigen_vis(input_file='EigenData.hdf5',
                 mode_tags=[2, 5], subplots=True,
                 alpha=1.0, show_outline=False,
                 show_origin=False, opacity=1.0,
                 show_face_line=False)
fig.show()


fig = opsvis.eigen_anim(input_file='EigenData.hdf5',
                  mode_tag=5, alpha=1.0, show_outline=False,
                  opacity=1, framerate=3,
                  n_cycle=5,  # change steps here
                  show_face_line=True)
fig.show()


opst.gen_grav_load(ts_tag=1, pattern_tag=1, factor=-9.81, direction="Z")


Nsteps = 10
ops.wipeAnalysis()
ops.system('BandGeneral')
ops.constraints('Transformation')
ops.numberer('RCM')
ops.test('NormDispIncr', 1.0e-12, 10, 3)
ops.algorithm('Newton')
ops.integrator('LoadControl', 1 / Nsteps)
ops.analysis('Static')

# start analysis loop
for i in range(Nsteps):
    ok = ops.analyze(1)
    ModelData.get_resp_step()
# save all responses data after loop
ModelData.save_resp_all(save_file="RespStepData-1.hdf5")


fig = opsvis.deform_vis(input_file="RespStepData-1.hdf5",
                  slider=True,
                  response="disp", alpha=1.0,
                  show_outline=False, show_origin=True,
                  show_face_line=False, opacity=1,
                  model_update=False)
fig.show()


fig = opsvis.deform_anim(input_file="RespStepData-1.hdf5",
                   response="disp", alpha=1.0,
                   show_outline=False,
                   show_face_line=False, opacity=1,
                   model_update=False)
fig.show()


fig = opsvis.frame_resp_vis(input_file="RespStepData-1.hdf5",
                      ele_tags=None,
                      slider=True,
                      response="My",
                      show_values=False,
                      alpha=1.0,
                      opacity=1)
fig.show()
