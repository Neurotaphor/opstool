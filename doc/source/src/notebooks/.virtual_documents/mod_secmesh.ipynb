import numpy as np
import openseespy.opensees as ops
import opstool as opst


# the points of the outer contour line, only the turning point of the line is needed, counterclockwise or clockwise.
outlines = [[0.5, 0], [7.5, 0], [8, 0.5], [8, 4.5],
            [7.5, 5], [0.5, 5], [0, 4.5], [0, 0.5]]
# cover thick
cover_d = 0.08
# Offset to get the inner boundary of the cover layer
coverlines = opst.offset(outlines, d=cover_d)

# Generate polygonal geometry object for cover layer
cover = opst.add_polygon(outlines, holes=[coverlines])

# Creating core with voids
holelines1 = [[1, 1], [3.5, 1], [3.5, 4], [1, 4]]
holelines2 = [[4.5, 1], [7, 1], [7, 4], [4.5, 4]]
core = opst.add_polygon(coverlines, holes=[holelines1, holelines2])


sec = opst.SecMesh(sec_name="My Fiber Section")
# Grouping, the dict key is the group name, which can be arbitrary.
sec.assign_group({"cover": cover, "core":core})
# Specify the mesh size
sec.assign_mesh_size(dict(cover=0.2, core=0.4))
# Specify the region color
sec.assign_group_color(dict(cover="gray", core="green"))
# Specify the material tag in the opensees, the material needs to be defined by you beforehand.
ops.uniaxialMaterial('Concrete01', 1, -30, -0.002, -15, -0.005)
ops.uniaxialMaterial('Concrete01', 2, -40, -0.006, -30, -0.015)
sec.assign_ops_matTag(dict(cover=1, core=2))
# mesh!
sec.mesh()


ops.uniaxialMaterial('Steel01', 3, 200, 2.E5, 0.02)
# Instantiating the rebar class
rebars = opst.Rebars()

rebar_d_outer = 0.032   # dia of rebar
rebar_d_inner = 0.02
# Offset to obtain the rebars arranged along the contour line, Inward offset is positive
rebar_lines1 = opst.offset(outlines, d=cover_d + rebar_d_outer / 2)
# add the rebar line, gap is the spacing of the rebars, matTag is the opensees material tag predefined.
rebars.add_rebar_line(
    points=rebar_lines1, dia=rebar_d_outer, gap=0.15, color="red", matTag=3
)
# Offset to obtain the rebars arranged along the holes
rebar_lines2 = opst.offset(holelines1, d=-(cover_d + rebar_d_inner / 2))
rebars.add_rebar_line(
    points=rebar_lines2, dia=rebar_d_inner, gap=0.2, color="black", matTag=3
)
rebar_lines3 = opst.offset(holelines2, d=-(cover_d + rebar_d_inner / 2))
rebars.add_rebar_line(
    points=rebar_lines3, dia=rebar_d_inner, gap=0.2, color="black", matTag=3
)
# ---------------------------
# add rebars to the sec
sec.add_rebars(rebars)


sec_props = sec.get_sec_props(display_results=True, plot_centroids=False)
# or more faster
sec_props2 = sec.get_frame_props(display_results=True)
# for key, value in sec_props.items():
#     print(f"{key}: {value}")


sec.centring()
#sec.rotate(90)


sec.view(fill=True, engine='plotly', save_html=None, on_notebook=True)


sec.view(fill=True, engine='mpl')


stresses = sec.get_stress(N=-1000, Vy=1000, Vz=1000,
                          Myy=1000, Mzz=1000, Mxx=1000,
                          plot_stress='xx', cmap="jet")
for stress in stresses:
    print('Region: {0}'.format(stress['Region']))
    print('List Size: {0}'.format(len(stress['sig_xx'])))
    print('Normal Stresses: {0}'.format(stress['sig_xx']))
    print('von Mises Stresses: {0}'.format(stress['sig_vm']))


G = 10000   # Shear modulus
sec.to_file("mysec.py", secTag=1, GJ=G * sec_props['J'])
# If you have calculated the section properties
# sec.to_file("mysec.tcl", secTag=1, GJ=G * sec_props['J'])


import numpy as np
import opstool as opst


Ec = 3.45E7
Es = 2.0E8
Nus = 0.3
Nuc = 0.2
pho_c = 2.55
pho_s = 7.86
steel_mat = opst.add_material(name='steel', elastic_modulus=Es, poissons_ratio=Nus, density=pho_s)
conc_mat = opst.add_material(name='conc', elastic_modulus=Ec, poissons_ratio=Nuc, density=pho_c)


outlines = [[0, 0], [2, 0], [2, 2], [0, 2]]
coverlines = opst.offset(outlines, d=0.05)
cover = opst.add_polygon(outlines, holes=[coverlines], material=conc_mat)
bonelines = [[0.5, 0.5], [1.5, 0.5], [1.5, 0.7], [1.1, 0.7], [1.1, 1.3], [1.5, 1.3], [1.5, 1.5],
             [0.5, 1.5], [0.5, 1.3], [0.9, 1.3], [0.9, 0.7], [0.5, 0.7], [0.5, 0.5]]
core = opst.add_polygon(coverlines, holes=[bonelines], material=conc_mat)
bone = opst.add_polygon(bonelines, material=steel_mat)


sec = opst.SecMesh()
sec.assign_group(dict(cover=cover, core=core, bone=bone))
sec.assign_mesh_size(dict(cover=0.02, core=0.05, bone=0.02))
# sec.assign_group_color(dict(cover="gray", core="#b84592", bone='#ffc168'))
sec.assign_ops_matTag(dict(cover=1, core=2, bone=4))
sec.mesh()


# add rebars
rebars = opst.Rebars()
rebar_lines1 = opst.offset(outlines, d=0.05 + 0.032 / 2)
rebars.add_rebar_line(
    points=rebar_lines1, dia=0.032, gap=0.1, color="red", matTag=3
)
# add to the sec
sec.add_rebars(rebars)


Gs = Es / (2 * (1 + Nus))  # shear modulu of steel
sec_props = sec.get_sec_props(Eref=Es, Gref=Gs, display_results=True)


sec.centring()
sec.view(fill=True, engine='plotly', save_html=None, on_notebook=True)


stresses = sec.get_stress(N=-1000, Vy=1000, Vz=1000,
                          Myy=1000, Mzz=1000, Mxx=1000,
                          plot_stress='xyz', cmap="coolwarm")
for stress in stresses:
    print('Region: {0}'.format(stress['Region']))
    print('List Size: {0}'.format(len(stress['sig_xyz'])))
    print('Shear Stresses: {0}'.format(stress['sig_xyz']))
    print('von Mises Stresses: {0}'.format(stress['sig_vm']))


sec.to_file("mysec.py", secTag=1, GJ=Gs * sec_props['J'])
# or
# sec.opspy_cmds(secTag=1, GJ=Gs * sec_props['J'])


import numpy as np
import opstool as opst


# I end
outlines1 = [[0.5, 0], [7.5, 0], [8, 0.5], [8, 4.5],
            [7.5, 5], [0.5, 5], [0, 4.5], [0, 0.5]]
cover_d = 0.08
coverlines1 = opst.offset(outlines1, d=cover_d)
holelines1i = [[1, 1], [3.5, 1], [3.5, 4], [1, 4]]
holelines2i = [[4.5, 1], [7, 1], [7, 4], [4.5, 4]]
# J end
outlines2 = [[0.5, 0], [7.5, 0], [8, 0.5], [8, 2.5],
             [7.5, 3], [0.5, 3], [0, 2.5], [0, 0.5]]
cover_d = 0.05
coverlines2 = opst.offset(outlines2, d=cover_d)
holelines1j = [[1, 1], [3.5, 1], [3.5, 2], [1, 2]]
holelines2j = [[4.5, 1], [7, 1], [7, 2], [4.5, 2]]


path = [(0, 0, 0), (0, 0, 16), (0, 0, 24), (0, 0, 40)]   # 3 beam elements


locs = opst.get_lobatto_loc(n_sec=5)



outlines = opst.var_line_string(pointsi=outlines1, pointsj=outlines2,
                                path=path, n_sec=5, loc_sec=locs,
                                closure=True,
                                y_degree=1, y_sym_plane="j-0",
                                z_degree=2, z_sym_plane="j-0")
coverlines = opst.var_line_string(pointsi=coverlines1, pointsj=coverlines2,
                                  path=path, n_sec=5, loc_sec=locs,
                                  closure=True,
                                  y_degree=1, y_sym_plane="j-0",
                                  z_degree=2, z_sym_plane="j-0")
holelines1 = opst.var_line_string(pointsi=holelines1i, pointsj=holelines1j,
                                  path=path, n_sec=5, loc_sec=locs,
                                  closure=True,
                                  y_degree=1, y_sym_plane="j-0",
                                  z_degree=2, z_sym_plane="j-0")
holelines2 = opst.var_line_string(pointsi=holelines2i, pointsj=holelines2j,
                                  path=path, n_sec=5, loc_sec=locs,
                                  closure=True,
                                  y_degree=1, y_sym_plane="j-0",
                                  z_degree=2, z_sym_plane="j-0")


sec_meshes = []
for i in range(len(outlines)):
    cover = opst.add_polygon(outlines[i], holes=[coverlines[i]])
    core = opst.add_polygon(coverlines[i], holes=[holelines1[i], holelines2[i]])
    sec = opst.SecMesh(sec_name=f"Section{i+1}")
    sec.assign_group(dict(cover=cover, core=core))
    sec.assign_mesh_size(dict(cover=0.2, core=0.4))
    sec.assign_group_color(dict(cover="gray", core="green"))
    sec.assign_ops_matTag(dict(cover=1, core=2))
    # mesh!
    sec.mesh()
    rebars = opst.Rebars()
    rebar_d_outer = 0.06   # dia of rebar
    rebar_d_inner = 0.06
    rebar_lines1 = opst.offset(coverlines[i], d=rebar_d_outer / 2)
    rebars.add_rebar_line(points=rebar_lines1, dia=rebar_d_outer,
                          gap=0.15, color="red", matTag=3)
    rebar_lines2 = opst.offset(holelines1[i], d=-(cover_d + rebar_d_inner / 2))
    rebars.add_rebar_line(
        points=rebar_lines2, dia=rebar_d_inner, gap=0.2, color="black", matTag=3
    )
    rebar_lines3 = opst.offset(holelines2[i], d=-(cover_d + rebar_d_inner / 2))
    rebars.add_rebar_line(
        points=rebar_lines3, dia=rebar_d_inner, gap=0.2, color="black", matTag=3
    )
    sec.add_rebars(rebars)
    sec.centring()  # must here
    sec_meshes.append(sec)


opst.vis_var_sec(sec_meshes=sec_meshes, n_sec=5, loc_sec=locs,
                 path=path, on_notebook=False)
