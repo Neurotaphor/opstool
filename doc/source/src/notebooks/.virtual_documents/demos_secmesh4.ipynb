import opstool as opst

cover_d = 0.05
all_ = opst.add_circle(xo=[0, 0], radius=0.75)
core = opst.add_circle(xo=[0, 0], radius=0.75 - cover_d)
cover = all_ - core
sec = opst.SecMesh()
sec.assign_group(dict(cover=cover, core=core))
sec.assign_mesh_size(dict(cover=0.02, core=0.05))
sec.assign_group_color(dict(cover="gray", core="green"))
sec.assign_ops_matTag(dict(cover=1, core=2))
sec.mesh()
# add rebars
rebars = opst.Rebars()
rebars.add_rebar_circle(xo=[0, 0], radius=0.75 - 0.026 / 2 - cover_d,
                        dia=0.026, gap=0.15, matTag=3)
# add to the sec
sec.add_rebars(rebars)

#----------------------------------------------------------------
sec.get_sec_props(display_results=True, plot_centroids=False)
sec.centring()
# sec.rotate(45)
sec.view(fill=True, engine='plotly', save_html=None, on_notebook=True)
