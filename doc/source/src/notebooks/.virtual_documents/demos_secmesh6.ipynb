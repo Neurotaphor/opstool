import numpy as np
import opstool as opst

left_circ_angles = np.linspace(90, 270, 20)
right_circ_angles = np.linspace(-90, 90, 20)
left_circ_lines = []
right_circ_lines = []
r = 2
b = 4
for ang in left_circ_angles:
    ang = ang / 180 * np.pi
    left_circ_lines.append([0 + r * np.cos(ang), r + r * np.sin(ang)])
for ang in right_circ_angles:
    ang = ang / 180 * np.pi
    right_circ_lines.append([b + r * np.cos(ang), r + r * np.sin(ang)])
outlines = left_circ_lines + right_circ_lines
cover_d = 0.08
coverlines = opst.offset(outlines, d=cover_d)
cover = opst.add_polygon(outlines, holes=[coverlines])
core = opst.add_polygon(coverlines)
sec = opst.SecMesh()
sec.assign_group(dict(cover=cover, core=core))
sec.assign_mesh_size(dict(cover=0.1, core=0.2))
sec.assign_group_color(dict(cover="gray", core="green"))
sec.assign_ops_matTag(dict(cover=1, core=2))
sec.mesh()
# add rebars
rebars = opst.Rebars()
rebar_lines = opst.offset(outlines, d=cover_d + 0.032 / 2)
rebars.add_rebar_line(
    points=rebar_lines, dia=0.032, gap=0.15, color="red", matTag=3
)
# add to the sec
sec.add_rebars(rebars)

#----------------------------------------------------------------
sec_props = sec.get_sec_props(display_results=True, plot_centroids=False)
frame_props = sec.get_frame_props(display_results=True)
sec.centring()
# sec.rotate(45)
sec.view(fill=True, engine='plotly', save_html=None, on_notebook=True)
