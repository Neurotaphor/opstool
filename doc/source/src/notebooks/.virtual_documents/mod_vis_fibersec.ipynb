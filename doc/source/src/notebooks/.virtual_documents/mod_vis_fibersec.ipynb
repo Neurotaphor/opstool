import numpy as np
import openseespy.opensees as ops
import opstool as opst


ops.wipe()
ops.model('basic', '-ndm', 3, '-ndf', 6)

def create_pier(sec_tag):  
    ops.node(1, 0.0, 0.0, 0.0)
    ops.node(2, 0.0, 0.0, 6.0)
    ops.mass(2, 50, 50, 50, 0.0, 0.0, 0.0)
    ops.fix(1, 1, 1, 1, 1, 1, 1)
    ops.geomTransf('Linear', 1, *[-1.0, 0.0, 0.0])
    ops.beamIntegration('Lobatto', 1, sec_tag, 6)
    ops.element('forceBeamColumn', 1, *[1, 2], 1, 1)


outlines = [[0, 0], [1, 0], [1, 1], [0, 1]]
coverlines = opst.offset(outlines, d=0.05)
cover = opst.add_polygon(outlines, holes=[coverlines])
holelines = [[0.25, 0.25], [0.75, 0.25], [0.75, 0.75], [0.25, 0.75]]
core = opst.add_polygon(coverlines, holes=[holelines])
# ------------------------------------------------------------
sec = opst.SecMesh()
sec.assign_group(dict(cover=cover, core=core))
sec.assign_mesh_size(dict(cover=0.001, core=0.005))
sec.assign_group_color(dict(cover="gray", core="green"))
# Specify the material tag in the opensees, the material needs to be defined by you beforehand.
ops.uniaxialMaterial('Concrete01', 1, -25.E3, -0.002, -10.E3, -0.005)
ops.uniaxialMaterial('Concrete01', 2, -40.E3, -0.006, -30.E3, -0.015)
sec.assign_ops_matTag(dict(cover=1, core=2))
sec.mesh()
# ------------------------------------------------------------
# add rebars
ops.uniaxialMaterial('Steel01', 3, 200.E3, 2.E8, 0.02)
rebars = opst.Rebars()
rebar_lines1 = opst.offset(outlines, d=0.05 + 0.032 / 2)
rebars.add_rebar_line(
    points=rebar_lines1, dia=0.032, gap=0.1, color="red", matTag=3
)
rebar_lines2 = opst.offset(holelines, d=-(0.05 + 0.02 / 2))
rebars.add_rebar_line(
    points=rebar_lines2, dia=0.020, gap=0.1, color="black", matTag=3
)
# add to the sec
sec.add_rebars(rebars)
# -----------------------------------------------------------------------------
sec.centring()
sec.view(fill=True, engine='plotly', save_html=None, on_notebook=True)


sec_props = sec.get_frame_props(display_results=True)
G = 3.45E7 / (2 * (1 + 0.2))
J = sec_props['J']  # or other number if you don't care
sec.opspy_cmds(secTag=1, GJ=G * J)   # generate openseespy fiber commands


create_pier(sec_tag=1)


ele_sec = []
for i in range(6):
    ele_sec.append((1, i+1))

FEMdata = opst.GetFEMdata()
FEMdata.get_fiber_data(ele_sec=ele_sec, save_file='FiberData.hdf5')


opst.plot_fiber_sec(ele_sec=[(1,1)],
                   results_dir="opstool_output",
                   input_file='FiberData.hdf5')


opst.plot_fiber_sec(ele_sec=[(1,1)],
                   results_dir="opstool_output",
                   input_file='FiberData.hdf5',
                   mat_color={1: 'gray', 2: 'orange', 3: 'blue'})


opst.plot_fiber_sec(ele_sec=ele_sec[:-1],
                   results_dir="opstool_output",
                   input_file='FiberData.hdf5',
                   mat_color={1: 'gray', 2: 'green', 3: 'blue'})


# --------------------------------------------------
# dynamic load
ops.rayleigh(0.0, 0.0, 0.0, 0.000625)
ops.loadConst('-time', 0.0)

# applying Dynamic Ground motion analysis
dt = 0.02
ttot = 5
npts = int(ttot / dt)
x = np.linspace(0, ttot, npts)
data = 2.0 * np.sin(2 * np.pi * x)
ops.timeSeries('Path', 2, '-dt', dt, '-values', *data, '-factor', 9.81)
ops.pattern('UniformExcitation', 2, 1, '-accel', 2)
ops.pattern('UniformExcitation', 3, 2, '-accel', 2)

ops.wipeAnalysis()
ops.system('BandGeneral')
# Create the constraint handler, the transformation method
ops.constraints('Transformation')
# Create the DOF numberer, the reverse Cuthill-McKee algorithm
ops.numberer('RCM')
ops.test('NormDispIncr', 1e-8, 10)
ops.algorithm('Linear')
ops.integrator('Newmark', 0.5, 0.25)
ops.analysis('Transient')


for i in range(npts):
    ops.analyze(1, dt)
    FEMdata.get_resp_step()
# save all responses data after loop
FEMdata.save_resp_all(save_file="RespStepData-1.hdf5")


secvis = opst.FiberSecVis(input_file="RespStepData-1.hdf5", opacity=1, colormap='viridis')
secvis.resp_vis(ele_tag=1, sec_tag=1,
                step=None,
                show_variable='strain',
                show_mats=[1, 2, 3],)


secvis.resp_vis(ele_tag=1, sec_tag=1,
                step=None,
                show_variable='stress',
                show_mats=[3],)


secvis.animation(ele_tag=1, sec_tag=1,
                 output_file='images/sec1-1.gif',
                 show_variable='strain',
                 show_mats=[1, 2, 3],
                 framerate=10)


defos, forces = secvis.force_defo_vis(ele_tag=1, sec_tag=1,
                                      force_type="My",
                                      defo_type="Phiy")
