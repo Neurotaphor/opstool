import opstool

Ec = 3.45E7
Es = 2.0E8
Nus = 0.3
Nuc = 0.2
tube_d = 0.02
steel_mat = opstool.add_material(name='steel', elastic_modulus=Es, poissons_ratio=Nus)
conc_mat = opstool.add_material(
    name='conc', elastic_modulus=Ec, poissons_ratio=Nuc)
all_ = opstool.add_circle(xo=[0, 0], radius=0.75)
conc = opstool.add_circle(xo=[0, 0], radius=0.75 - tube_d)
tube = all_ - conc
conc.material = conc_mat
tube.material = steel_mat
sec = opstool.SecMesh()
sec.assign_group(dict(tube=tube, conc=conc))
sec.assign_mesh_size(dict(tube=0.1, conc=0.2))
sec.assign_group_color(dict(tube="green", conc="orange"))
sec.assign_ops_matTag(dict(tube=1, conc=2))
sec.mesh()
sec_props = sec.get_sec_props(
    Eref=Ec, display_results=True, plot_centroids=False)
sec_props2 = sec.get_frame_props(
    Eref=Ec, display_results=True)
# sec.rotate(45)
sec.view(fill=True, engine='p', save_html=None, on_notebook=True)
