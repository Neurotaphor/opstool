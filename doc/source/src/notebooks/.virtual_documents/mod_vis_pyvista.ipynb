import openseespy.opensees as ops
import opstool as opst


opst.load_ops_examples("ArchBridge")
# or your openseespy code
# your openseespy code here


ModelData = opst.GetFEMdata(results_dir="opstool_output")
ModelData.get_model_data(save_file="ModelData.hdf5")


opsvis = opst.OpsVisPyvista(point_size=2, line_width=3,
                            colors_dict=None, theme="paraview",
                            color_map="coolwarm", on_notebook=False,
                            results_dir="opstool_output")


opsvis.model_vis(input_file="ModelData.hdf5",
                 show_node_label=False, show_ele_label=False,
                 show_local_crd=True,
                 show_fix_node=True,
                 show_constrain_dof=False,
                 label_size=8,
                 show_outline=True,
                 opacity=1.0,
                 save_fig='images/ModelVis.svg')


ModelData.get_eigen_data(mode_tag=20, solver="-genBandArpack",
                         save_file='EigenData.hdf5')


opsvis.eigen_vis(input_file='EigenData.hdf5',
                 mode_tags=[1, 20], subplots=False,
                 alpha=None, show_outline=False,
                 show_origin=False, opacity=1.0,
                 show_face_line=False, save_fig='images/EigenVis.svg')


opsvis.eigen_vis(input_file='EigenData.hdf5',
                 mode_tags=[1, 16], subplots=True,
                 alpha=None, show_outline=False,
                 show_origin=False, opacity=1.0,
                 show_face_line=False, save_fig='images/EigenVis2.svg')


opsvis.eigen_anim(input_file='EigenData.hdf5',
                  mode_tag=6, alpha=None,
                  show_outline=False,
                  opacity=1, framerate=3,
                  n_cycle=5,  # change steps here
                  show_face_line=True,
                  save_fig="images/EigenAnimation.gif")


opst.gen_grav_load(ts_tag=1, pattern_tag=1,
                   factor=-9.81, direction="Z")


Nsteps = 10
ops.wipeAnalysis()
ops.system('BandGeneral')
ops.constraints('Transformation')
ops.numberer('RCM')
ops.test('NormDispIncr', 1.0e-12, 10, 3)
ops.algorithm('Newton')
ops.integrator('LoadControl', 1 / Nsteps)
ops.analysis('Static')

# start analysis loop
for i in range(Nsteps):
    ok = ops.analyze(1)
    ModelData.get_resp_step()
# save all responses data after loop
ModelData.save_resp_all(save_file="RespStepData-1.hdf5")


opsvis.deform_vis(input_file="RespStepData-1.hdf5",
                  slider=True,
                  response="disp", alpha=None,
                  show_outline=False, show_origin=True,
                  show_face_line=False, opacity=1,
                  save_fig="images/DefoVis.svg",
                  model_update=False)


opsvis.deform_anim(input_file="RespStepData-1.hdf5",
                    response="disp", alpha=None,
                    show_outline=False,
                    framerate=2,
                    show_face_line=False, opacity=1,
                    save_fig="images/DefoAnimation.gif",
                    model_update=False)


opsvis.frame_resp_vis(input_file="RespStepData-1.hdf5",
                      ele_tags=None,
                      slider=True,
                      response="My",
                      show_values=False,
                      alpha=None,
                      opacity=1,
                      save_fig="images/FrameRespVis.svg")
