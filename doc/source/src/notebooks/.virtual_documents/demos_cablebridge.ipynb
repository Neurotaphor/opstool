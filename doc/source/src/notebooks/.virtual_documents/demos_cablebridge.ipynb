import openseespy.opensees as ops
import opstool as opst


opst.load_ops_examples("CableStayedBridge")


ModelData = opst.GetFEMdata()

ModelData.get_model_data()
ModelData.get_eigen_data(mode_tag=15)


opsv = opst.OpsVisPlotly(point_size=2, line_width=3, colors_dict=None, theme="plotly",
                         color_map="jet", on_notebook=True, results_dir="opstool_output")


opsv.model_vis(show_node_label=False, show_ele_label=False,
               show_local_crd=True, label_size=8,
               show_outline=True,
               opacity=1.0,
               save_html=None)


opsv.eigen_vis(mode_tags=[1, 3], subplots=False,
               alpha=1.0, show_outline=False,
               show_origin=False, opacity=1.0,
               show_face_line=False, save_html=None)
