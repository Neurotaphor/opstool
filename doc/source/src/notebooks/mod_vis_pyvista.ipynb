{
 "cells": [
  {
   "cell_type": "markdown",
   "metadata": {},
   "source": [
    "# Visualization based on pyvista"
   ]
  },
  {
   "cell_type": "raw",
   "metadata": {
    "raw_mimetype": "text/restructuredtext",
    "tags": []
   },
   "source": [
    "First load the necessary classes and functions, where :py:class:`~opstool.vis.GetFEMdata` is used to get the model data from the current domain of OpenSeesPy, \n",
    "and :py:class:`~opstool.vis.OpsVisPyvista` is used to visualize the model.\n",
    "Function :py:func:`~opstool.load_ops_examples` is used to load predefined examples from **opstool**."
   ]
  },
  {
   "cell_type": "code",
   "execution_count": 1,
   "metadata": {
    "execution": {
     "iopub.execute_input": "2023-02-03T02:54:58.855851Z",
     "iopub.status.busy": "2023-02-03T02:54:58.855851Z",
     "iopub.status.idle": "2023-02-03T02:54:59.695885Z",
     "shell.execute_reply": "2023-02-03T02:54:59.695633Z",
     "shell.execute_reply.started": "2023-02-03T02:54:58.855851Z"
    },
    "tags": []
   },
   "outputs": [],
   "source": [
    "import openseespy.opensees as ops\n",
    "import opstool as opst"
   ]
  },
  {
   "cell_type": "markdown",
   "metadata": {},
   "source": [
    "Load the 3D Arch Bridge finite element model."
   ]
  },
  {
   "cell_type": "code",
   "execution_count": 2,
   "metadata": {
    "execution": {
     "iopub.execute_input": "2023-02-03T02:54:59.696937Z",
     "iopub.status.busy": "2023-02-03T02:54:59.696937Z",
     "iopub.status.idle": "2023-02-03T02:54:59.710997Z",
     "shell.execute_reply": "2023-02-03T02:54:59.710997Z",
     "shell.execute_reply.started": "2023-02-03T02:54:59.696937Z"
    },
    "tags": []
   },
   "outputs": [],
   "source": [
    "opst.load_ops_examples(\"ArchBridge\")"
   ]
  },
  {
   "cell_type": "markdown",
   "metadata": {},
   "source": [
    "## Display OpenSeesPy Geometry Model"
   ]
  },
  {
   "cell_type": "raw",
   "metadata": {
    "raw_mimetype": "text/restructuredtext",
    "tags": []
   },
   "source": [
    "Get the model data from the current domain. Of course, you can also run your own model code before instantiating :py:class:`~opstool.vis.GetFEMdata`.\n",
    "Parameter *results_dir* is used to specify the directory where the output file is saved."
   ]
  },
  {
   "cell_type": "code",
   "execution_count": 3,
   "metadata": {
    "execution": {
     "iopub.execute_input": "2023-02-03T02:54:59.711994Z",
     "iopub.status.busy": "2023-02-03T02:54:59.711994Z",
     "iopub.status.idle": "2023-02-03T02:54:59.758351Z",
     "shell.execute_reply": "2023-02-03T02:54:59.758351Z",
     "shell.execute_reply.started": "2023-02-03T02:54:59.711994Z"
    },
    "tags": []
   },
   "outputs": [
    {
     "data": {
      "text/html": [
       "<pre style=\"white-space:pre;overflow-x:auto;line-height:normal;font-family:Menlo,'DejaVu Sans Mono',consolas,'Courier New',monospace\">Model data saved in <span style=\"color: #00aeff; text-decoration-color: #00aeff; font-weight: bold\">opstool_output/ModelData.hdf5</span>!\n",
       "</pre>\n"
      ],
      "text/plain": [
       "Model data saved in \u001b[1;38;2;0;174;255mopstool_output/ModelData.hdf5\u001b[0m!\n"
      ]
     },
     "metadata": {},
     "output_type": "display_data"
    }
   ],
   "source": [
    "ModelData = opst.GetFEMdata(results_dir=\"opstool_output\")\n",
    "ModelData.get_model_data(save_file=\"ModelData.hdf5\")"
   ]
  },
  {
   "cell_type": "raw",
   "metadata": {
    "raw_mimetype": "text/restructuredtext",
    "tags": []
   },
   "source": [
    "Instantiating visualization class :py:class:`~opstool.vis.OpsVisPyvista`."
   ]
  },
  {
   "cell_type": "code",
   "execution_count": 4,
   "metadata": {
    "execution": {
     "iopub.execute_input": "2023-02-03T02:54:59.758351Z",
     "iopub.status.busy": "2023-02-03T02:54:59.758351Z",
     "iopub.status.idle": "2023-02-03T02:54:59.774358Z",
     "shell.execute_reply": "2023-02-03T02:54:59.773533Z",
     "shell.execute_reply.started": "2023-02-03T02:54:59.758351Z"
    },
    "tags": []
   },
   "outputs": [],
   "source": [
    "opsvis = opst.OpsVisPyvista(point_size=2, line_width=3,\n",
    "                            colors_dict=None, theme=\"document\",\n",
    "                            color_map=\"Spectral\", on_notebook=False,\n",
    "                            results_dir=\"opstool_output\")"
   ]
  },
  {
   "cell_type": "raw",
   "metadata": {
    "raw_mimetype": "text/restructuredtext",
    "tags": []
   },
   "source": [
    "Display the geometric information of the model, Input parameter explanation see class method :py:meth:`~opstool.vis.OpsVisPyvista.model_vis`."
   ]
  },
  {
   "cell_type": "code",
   "execution_count": 5,
   "metadata": {
    "execution": {
     "iopub.execute_input": "2023-02-03T02:54:59.775351Z",
     "iopub.status.busy": "2023-02-03T02:54:59.775351Z",
     "iopub.status.idle": "2023-02-03T02:55:03.023895Z",
     "shell.execute_reply": "2023-02-03T02:55:03.023895Z",
     "shell.execute_reply.started": "2023-02-03T02:54:59.775351Z"
    },
    "tags": []
   },
   "outputs": [],
   "source": [
    "opsvis.model_vis(input_file=\"ModelData.hdf5\",\n",
    "                 show_node_label=False, show_ele_label=False,\n",
    "                 show_local_crd=True, label_size=8,\n",
    "                 show_outline=True,\n",
    "                 opacity=1.0,\n",
    "                 save_fig='images/ModelVis.svg')"
   ]
  },
  {
   "cell_type": "raw",
   "metadata": {
    "raw_mimetype": "text/restructuredtext",
    "tags": []
   },
   "source": [
    ".. image:: images/ModelVis.svg\n",
    "    :align: center"
   ]
  },
  {
   "cell_type": "markdown",
   "metadata": {},
   "source": [
    "## Display Eigen Analysis"
   ]
  },
  {
   "cell_type": "markdown",
   "metadata": {},
   "source": [
    "<div class=\"alert alert-info\">\n",
    "\n",
    "Note\n",
    "\n",
    "Before performing the eigenvalue analysis, you need to ensure that the OpenSeesPy model is correct and that the mass is set.\n",
    "\n",
    "</div>"
   ]
  },
  {
   "cell_type": "markdown",
   "metadata": {},
   "source": [
    "Obtain the first 15 orders of modal data."
   ]
  },
  {
   "cell_type": "code",
   "execution_count": 6,
   "metadata": {
    "execution": {
     "iopub.execute_input": "2023-02-03T02:55:03.025896Z",
     "iopub.status.busy": "2023-02-03T02:55:03.024896Z",
     "iopub.status.idle": "2023-02-03T02:55:03.196983Z",
     "shell.execute_reply": "2023-02-03T02:55:03.196983Z",
     "shell.execute_reply.started": "2023-02-03T02:55:03.025896Z"
    },
    "tags": []
   },
   "outputs": [
    {
     "data": {
      "text/html": [
       "<pre style=\"white-space:pre;overflow-x:auto;line-height:normal;font-family:Menlo,'DejaVu Sans Mono',consolas,'Courier New',monospace\">Eigen data saved in <span style=\"color: #3369e7; text-decoration-color: #3369e7; font-weight: bold\">opstool_output/EigenData.hdf5</span> !\n",
       "</pre>\n"
      ],
      "text/plain": [
       "Eigen data saved in \u001b[1;38;2;51;105;231mopstool_output/EigenData.hdf5\u001b[0m !\n"
      ]
     },
     "metadata": {},
     "output_type": "display_data"
    }
   ],
   "source": [
    "ModelData.get_eigen_data(mode_tag=20, solver=\"-genBandArpack\",\n",
    "                         save_file='EigenData.hdf5')"
   ]
  },
  {
   "cell_type": "raw",
   "metadata": {
    "raw_mimetype": "text/restructuredtext",
    "tags": []
   },
   "source": [
    "Visualize eigenvalue modes. When you set a two-element list for the argument *mode_tags* and *subplots* is False, the method :py:meth:`~opstool.vis.OpsVisPyvista.eigen_vis` returns a slider-style plot."
   ]
  },
  {
   "cell_type": "code",
   "execution_count": 7,
   "metadata": {
    "execution": {
     "iopub.execute_input": "2023-02-03T02:55:03.199199Z",
     "iopub.status.busy": "2023-02-03T02:55:03.199199Z",
     "iopub.status.idle": "2023-02-03T02:55:04.154513Z",
     "shell.execute_reply": "2023-02-03T02:55:04.154513Z",
     "shell.execute_reply.started": "2023-02-03T02:55:03.199199Z"
    },
    "tags": []
   },
   "outputs": [],
   "source": [
    "opsvis.eigen_vis(input_file='EigenData.hdf5',\n",
    "                 mode_tags=[1, 20], subplots=False,\n",
    "                 alpha=None, show_outline=False,\n",
    "                 show_origin=False, opacity=1.0,\n",
    "                 show_face_line=False, save_fig='images/EigenVis.svg')"
   ]
  },
  {
   "cell_type": "raw",
   "metadata": {
    "raw_mimetype": "text/restructuredtext",
    "tags": []
   },
   "source": [
    ".. image:: images/EigenVis.svg\n",
    "    :align: center"
   ]
  },
  {
   "cell_type": "markdown",
   "metadata": {},
   "source": [
    "Of course, *subplots* set to True will return a multi-sub plot."
   ]
  },
  {
   "cell_type": "code",
   "execution_count": 8,
   "metadata": {
    "execution": {
     "iopub.execute_input": "2023-02-03T02:55:04.155530Z",
     "iopub.status.busy": "2023-02-03T02:55:04.155530Z",
     "iopub.status.idle": "2023-02-03T02:55:05.193269Z",
     "shell.execute_reply": "2023-02-03T02:55:05.193269Z",
     "shell.execute_reply.started": "2023-02-03T02:55:04.155530Z"
    },
    "tags": []
   },
   "outputs": [],
   "source": [
    "opsvis.eigen_vis(input_file='EigenData.hdf5',\n",
    "                 mode_tags=[1, 16], subplots=True,\n",
    "                 alpha=None, show_outline=False,\n",
    "                 show_origin=False, opacity=1.0,\n",
    "                 show_face_line=False, save_fig='images/EigenVis2.svg')"
   ]
  },
  {
   "cell_type": "raw",
   "metadata": {
    "raw_mimetype": "text/restructuredtext",
    "tags": []
   },
   "source": [
    ".. image:: images/EigenVis2.svg\n",
    "    :align: center"
   ]
  },
  {
   "cell_type": "raw",
   "metadata": {
    "raw_mimetype": "text/restructuredtext",
    "tags": []
   },
   "source": [
    "You can also create an gif or mp4 animation by :py:meth:`~opstool.vis.OpsVisPyvista.eigen_anim`."
   ]
  },
  {
   "cell_type": "raw",
   "metadata": {
    "execution": {
     "iopub.execute_input": "2022-12-07T12:55:22.855241Z",
     "iopub.status.busy": "2022-12-07T12:55:22.855241Z",
     "iopub.status.idle": "2022-12-07T12:55:27.305242Z",
     "shell.execute_reply": "2022-12-07T12:55:27.305242Z",
     "shell.execute_reply.started": "2022-12-07T12:55:22.855241Z"
    },
    "raw_mimetype": "text/restructuredtext",
    "tags": []
   },
   "source": [
    "\n",
    ".. code-block:: python\n",
    "\n",
    "    opsvis.eigen_anim(input_file='EigenData.hdf5',\n",
    "                      mode_tag=6, alpha=None,\n",
    "                      show_outline=False,\n",
    "                      opacity=1, framerate=3,\n",
    "                      show_face_line=True,\n",
    "                      save_fig=\"images/EigenAnimation.gif\")\n"
   ]
  },
  {
   "cell_type": "raw",
   "metadata": {
    "raw_mimetype": "text/restructuredtext",
    "tags": []
   },
   "source": [
    ".. image:: images/EigenAnimation.gif\n",
    "    :alt: StreamPlayer\n",
    "    :align: center"
   ]
  },
  {
   "cell_type": "markdown",
   "metadata": {},
   "source": [
    "## Display Response Data"
   ]
  },
  {
   "cell_type": "raw",
   "metadata": {
    "raw_mimetype": "text/restructuredtext",
    "tags": []
   },
   "source": [
    "First we use the function :py:func:`~opstool.preprocessing.gen_grav_load` to generate the gravity load."
   ]
  },
  {
   "cell_type": "code",
   "execution_count": 9,
   "metadata": {
    "execution": {
     "iopub.execute_input": "2023-02-03T02:55:05.194283Z",
     "iopub.status.busy": "2023-02-03T02:55:05.194283Z",
     "iopub.status.idle": "2023-02-03T02:55:05.208272Z",
     "shell.execute_reply": "2023-02-03T02:55:05.208272Z",
     "shell.execute_reply.started": "2023-02-03T02:55:05.194283Z"
    },
    "tags": []
   },
   "outputs": [],
   "source": [
    "opst.gen_grav_load(ts_tag=1, pattern_tag=1,\n",
    "                   factor=-9.81, direction=\"Z\")"
   ]
  },
  {
   "cell_type": "raw",
   "metadata": {
    "raw_mimetype": "text/restructuredtext",
    "tags": []
   },
   "source": [
    "Next, we save the response data in each analysis step.\n",
    "I chose to do this to strip the visualization from the analysis,\n",
    "and you are free to tweak the analysis parameters, which is very helpful for debugging the convergence of the model!\n",
    "\n",
    "Note that parameters *num_steps*, *total_time* and *stop_cond* are used to tell :py:meth:`~opstool.vis.GetFEMdata.get_node_resp_step` how many steps to output the data after,\n",
    "depends on which of the three arrives first.\n",
    "The arg *model_update* is useful when the model changes, eg., some elements are removed.\n",
    "\n",
    "In addition, it is also used :py:meth:`~opstool.vis.GetFEMdata.get_frame_resp_step` here to obtain the response data of the beam elements."
   ]
  },
  {
   "cell_type": "code",
   "execution_count": 10,
   "metadata": {
    "execution": {
     "iopub.execute_input": "2023-02-03T02:55:05.209270Z",
     "iopub.status.busy": "2023-02-03T02:55:05.209270Z",
     "iopub.status.idle": "2023-02-03T02:55:06.293469Z",
     "shell.execute_reply": "2023-02-03T02:55:06.293469Z",
     "shell.execute_reply.started": "2023-02-03T02:55:05.209270Z"
    },
    "tags": []
   },
   "outputs": [
    {
     "data": {
      "text/html": [
       "<pre style=\"white-space:pre;overflow-x:auto;line-height:normal;font-family:Menlo,'DejaVu Sans Mono',consolas,'Courier New',monospace\">Node response data saved in <span style=\"color: #8e43e7; text-decoration-color: #8e43e7; font-weight: bold\">opstool_output/NodeRespStepData-</span><span style=\"color: #8e43e7; text-decoration-color: #8e43e7; font-weight: bold\">1.</span><span style=\"color: #8e43e7; text-decoration-color: #8e43e7; font-weight: bold\">hdf5</span> !\n",
       "</pre>\n"
      ],
      "text/plain": [
       "Node response data saved in \u001b[1;38;2;142;67;231mopstool_output/NodeRespStepData-\u001b[0m\u001b[1;38;2;142;67;231m1.\u001b[0m\u001b[1;38;2;142;67;231mhdf5\u001b[0m !\n"
      ]
     },
     "metadata": {},
     "output_type": "display_data"
    },
    {
     "data": {
      "text/html": [
       "<pre style=\"white-space:pre;overflow-x:auto;line-height:normal;font-family:Menlo,'DejaVu Sans Mono',consolas,'Courier New',monospace\">Frame elements response data saved in <span style=\"color: #b84592; text-decoration-color: #b84592; font-weight: bold\">opstool_output/BeamRespStepData-</span><span style=\"color: #b84592; text-decoration-color: #b84592; font-weight: bold\">1.</span><span style=\"color: #b84592; text-decoration-color: #b84592; font-weight: bold\">hdf5</span> !\n",
       "</pre>\n"
      ],
      "text/plain": [
       "Frame elements response data saved in \u001b[1;38;2;184;69;146mopstool_output/BeamRespStepData-\u001b[0m\u001b[1;38;2;184;69;146m1.\u001b[0m\u001b[1;38;2;184;69;146mhdf5\u001b[0m !\n"
      ]
     },
     "metadata": {},
     "output_type": "display_data"
    }
   ],
   "source": [
    "Nsteps = 10\n",
    "ops.wipeAnalysis()\n",
    "ops.system('BandGeneral')\n",
    "ops.constraints('Transformation')\n",
    "ops.numberer('RCM')\n",
    "ops.test('NormDispIncr', 1.0e-12, 10, 3)\n",
    "ops.algorithm('Newton')\n",
    "ops.integrator('LoadControl', 1 / Nsteps)\n",
    "ops.analysis('Static')\n",
    "\n",
    "# Important!!!! to clear step data in previous analysis case!\n",
    "ModelData.reset_steps_state()\n",
    "# start analysis loop\n",
    "for i in range(Nsteps):\n",
    "    ok = ops.analyze(1)\n",
    "    ModelData.get_node_resp_step(num_steps=Nsteps,\n",
    "                                 total_time=10000000000,\n",
    "                                 stop_cond=False,\n",
    "                                 save_file=\"NodeRespStepData-1.hdf5\",\n",
    "                                 model_update=False)\n",
    "    ModelData.get_frame_resp_step(num_steps=Nsteps,\n",
    "                                  total_time=10000000000,\n",
    "                                  stop_cond=False,\n",
    "                                  save_file=\"BeamRespStepData-1.hdf5\")"
   ]
  },
  {
   "cell_type": "raw",
   "metadata": {
    "raw_mimetype": "text/restructuredtext",
    "tags": []
   },
   "source": [
    "Visualize node displacement by method :py:meth:`~opstool.vis.OpsVisPyvista.deform_vis`.\n",
    "Of course, velocity and acceleration are also optional, just change *response* to \"vel\" or \"accel\"."
   ]
  },
  {
   "cell_type": "code",
   "execution_count": 11,
   "metadata": {
    "execution": {
     "iopub.execute_input": "2023-02-03T02:55:06.294464Z",
     "iopub.status.busy": "2023-02-03T02:55:06.294464Z",
     "iopub.status.idle": "2023-02-03T02:55:17.512790Z",
     "shell.execute_reply": "2023-02-03T02:55:17.512790Z",
     "shell.execute_reply.started": "2023-02-03T02:55:06.294464Z"
    },
    "tags": []
   },
   "outputs": [],
   "source": [
    "opsvis.deform_vis(input_file=\"NodeRespStepData-1.hdf5\",\n",
    "                  slider=True,\n",
    "                  response=\"disp\", alpha=None,\n",
    "                  show_outline=False, show_origin=True,\n",
    "                  show_face_line=False, opacity=1,\n",
    "                  save_fig=\"images/DefoVis.svg\",\n",
    "                  model_update=False)"
   ]
  },
  {
   "cell_type": "raw",
   "metadata": {
    "raw_mimetype": "text/restructuredtext",
    "tags": []
   },
   "source": [
    ".. image:: images/DefoVis.svg\n",
    "    :align: center"
   ]
  },
  {
   "cell_type": "raw",
   "metadata": {
    "raw_mimetype": "text/restructuredtext",
    "tags": []
   },
   "source": [
    "Create an html animation by :py:meth:`~opstool.vis.OpsVisPyvista.deform_anim`."
   ]
  },
  {
   "cell_type": "raw",
   "metadata": {
    "execution": {
     "iopub.execute_input": "2022-12-07T12:55:33.425393Z",
     "iopub.status.busy": "2022-12-07T12:55:33.424389Z",
     "iopub.status.idle": "2022-12-07T12:55:35.478081Z",
     "shell.execute_reply": "2022-12-07T12:55:35.478081Z",
     "shell.execute_reply.started": "2022-12-07T12:55:33.425393Z"
    },
    "raw_mimetype": "text/restructuredtext",
    "tags": []
   },
   "source": [
    "\n",
    ".. code-block:: python\n",
    "\n",
    "    opsvis.deform_anim(input_file=\"NodeRespStepData-1.hdf5\",\n",
    "                       response=\"disp\", alpha=None,\n",
    "                       show_outline=False,\n",
    "                       framerate=2,\n",
    "                       show_face_line=False, opacity=1,\n",
    "                       save_fig=\"images/DefoAnimation.gif\",\n",
    "                       model_update=False)\n"
   ]
  },
  {
   "cell_type": "raw",
   "metadata": {
    "raw_mimetype": "text/restructuredtext",
    "tags": []
   },
   "source": [
    ".. image:: images/DefoAnimation.gif\n",
    "    :alt: StreamPlayer\n",
    "    :align: center"
   ]
  },
  {
   "cell_type": "markdown",
   "metadata": {},
   "source": [
    "### Display Frame Element Response"
   ]
  },
  {
   "cell_type": "raw",
   "metadata": {
    "raw_mimetype": "text/restructuredtext",
    "tags": []
   },
   "source": [
    "When saving the node response data, we also save the response of the frame elemengts by method :py:meth:`~opstool.vis.GetFEMdata.get_frame_resp_step`, which you can visualize in the following way."
   ]
  },
  {
   "cell_type": "code",
   "execution_count": 12,
   "metadata": {
    "execution": {
     "iopub.execute_input": "2023-02-03T02:55:17.513790Z",
     "iopub.status.busy": "2023-02-03T02:55:17.513790Z",
     "iopub.status.idle": "2023-02-03T02:55:20.047780Z",
     "shell.execute_reply": "2023-02-03T02:55:20.047780Z",
     "shell.execute_reply.started": "2023-02-03T02:55:17.513790Z"
    },
    "tags": []
   },
   "outputs": [],
   "source": [
    "opsvis.frame_resp_vis(input_file=\"BeamRespStepData-1.hdf5\",\n",
    "                      ele_tags=None,\n",
    "                      slider=True,\n",
    "                      response=\"My\",\n",
    "                      show_values=False,\n",
    "                      alpha=None,\n",
    "                      opacity=1,\n",
    "                      save_fig=\"images/FrameRespVis.svg\")"
   ]
  },
  {
   "cell_type": "raw",
   "metadata": {
    "raw_mimetype": "text/restructuredtext",
    "tags": []
   },
   "source": [
    ".. image:: images/FrameRespVis.svg\n",
    "    :align: center"
   ]
  }
 ],
 "metadata": {
  "kernelspec": {
   "display_name": "Python 3 (ipykernel)",
   "language": "python",
   "name": "python3"
  },
  "language_info": {
   "codemirror_mode": {
    "name": "ipython",
    "version": 3
   },
   "file_extension": ".py",
   "mimetype": "text/x-python",
   "name": "python",
   "nbconvert_exporter": "python",
   "pygments_lexer": "ipython3",
   "version": "3.9.13"
  },
  "toc-autonumbering": true,
  "vscode": {
   "interpreter": {
    "hash": "f7a9b8f8690f520d36b7cd58879dbcd97545c5eb0452dadad5bd7e9f8ca42860"
   }
  }
 },
 "nbformat": 4,
 "nbformat_minor": 4
}
