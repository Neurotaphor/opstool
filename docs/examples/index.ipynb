{
 "cells": [
  {
   "cell_type": "markdown",
   "metadata": {
    "vscode": {
     "languageId": "plaintext"
    }
   },
   "source": [
    "# Fiber Section Mesh"
   ]
  },
  {
   "cell_type": "markdown",
   "metadata": {
    "tags": [
     "nbsphinx-gallery"
    ],
    "vscode": {
     "languageId": "plaintext"
    }
   },
   "source": [
    "* [Hollow Rectangular RC Section](section.mesh/rc_mesh.ipynb)\n",
    "* [Steel-Concrete Composite Section Meshing](section.mesh/composite_mesh)\n",
    "* [Concrete-Filled Steel Tube (CFST) Section Meshing](section.mesh/cfst_mesh.ipynb)\n",
    "* [Bridge Superstructure Section](section.mesh/bridge_deck.ipynb)"
   ]
  },
  {
   "cell_type": "markdown",
   "metadata": {
    "vscode": {
     "languageId": "plaintext"
    }
   },
   "source": [
    "# Gmsh to OpenSeesPy"
   ]
  },
  {
   "cell_type": "markdown",
   "metadata": {
    "tags": [
     "nbsphinx-gallery"
    ],
    "vscode": {
     "languageId": "plaintext"
    }
   },
   "source": [
    "* [Gmsh2OPS: Case 1](pre/read_gmsh1.ipynb)\n",
    "* [Gmsh2OPS: Case 2](pre/read_gmsh2.ipynb)\n",
    "* [Gmsh2OPS: Case 3](pre/read_gmsh3.ipynb)\n",
    "* [Gmsh2OPS: Case 4](pre/read_gmsh4.ipynb)"
   ]
  },
  {
   "cell_type": "markdown",
   "metadata": {
    "vscode": {
     "languageId": "plaintext"
    }
   },
   "source": [
    "# Visualization"
   ]
  },
  {
   "cell_type": "markdown",
   "metadata": {
    "tags": [
     "nbsphinx-gallery"
    ],
    "vscode": {
     "languageId": "plaintext"
    }
   },
   "source": [
    "* [606 m Mega-tall Building](vis/vis_megatall.ipynb)"
   ]
  },
  {
   "cell_type": "markdown",
   "metadata": {
    "vscode": {
     "languageId": "plaintext"
    }
   },
   "source": [
    "# Post-processing"
   ]
  },
  {
   "cell_type": "markdown",
   "metadata": {
    "tags": [
     "nbsphinx-gallery"
    ],
    "vscode": {
     "languageId": "plaintext"
    }
   },
   "source": [
    "* [Two-Dimensional Moment Frame Analysis](post/Frame2D/test_model.ipynb)\n",
    "* [Excavation Supported by Cantilevered Sheet Pile Wall](post/excavation/test_excavation.ipynb)\n",
    "* [Modal analysis of a cooling tower](post/forma11c/test_forma11c.ipynb)"
   ]
  }
 ],
 "metadata": {
  "language_info": {
   "name": "python"
  }
 },
 "nbformat": 4,
 "nbformat_minor": 2
}
