{
 "cells": [
  {
   "cell_type": "markdown",
   "id": "347f590a",
   "metadata": {
    "vscode": {
     "languageId": "plaintext"
    }
   },
   "source": [
    "# Analysis"
   ]
  },
  {
   "cell_type": "markdown",
   "id": "83989e84",
   "metadata": {
    "tags": [
     "nbsphinx-gallery"
    ]
   },
   "source": [
    "* [Smart Analysis](smart_analysis.ipynb)\n",
    "* [Moment Curvature Analysis of Section](mc_analysis.ipynb)\n",
    "* [Linear Buckling Analysis](buckling_analysis_linear.ipynb)"
   ]
  }
 ],
 "metadata": {
  "language_info": {
   "name": "python"
  }
 },
 "nbformat": 4,
 "nbformat_minor": 5
}
