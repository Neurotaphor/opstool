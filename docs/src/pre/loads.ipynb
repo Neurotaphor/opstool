{
 "cells": [
  {
   "cell_type": "markdown",
   "metadata": {
    "editable": true,
    "slideshow": {
     "slide_type": ""
    },
    "tags": []
   },
   "source": [
    "# Element Load Transformation"
   ]
  },
  {
   "cell_type": "markdown",
   "metadata": {},
   "source": [
    "## Beam load"
   ]
  },
  {
   "cell_type": "markdown",
   "metadata": {},
   "source": [
    "This document describes the process of transforming element loads, such as **uniformly distributed loads (UDL)** and **point loads**, from the **global coordinate system** to the **local coordinate system**."
   ]
  },
  {
   "cell_type": "code",
   "execution_count": 1,
   "metadata": {
    "execution": {
     "iopub.execute_input": "2024-11-30T20:32:58.410130Z",
     "iopub.status.busy": "2024-11-30T20:32:58.410130Z",
     "iopub.status.idle": "2024-11-30T20:33:00.832335Z",
     "shell.execute_reply": "2024-11-30T20:33:00.832335Z",
     "shell.execute_reply.started": "2024-11-30T20:32:58.410130Z"
    }
   },
   "outputs": [],
   "source": [
    "import opstool as opst\n",
    "import openseespy.opensees as ops"
   ]
  },
  {
   "cell_type": "markdown",
   "metadata": {},
   "source": [
    "### 2D Case"
   ]
  },
  {
   "cell_type": "markdown",
   "metadata": {},
   "source": [
    "First we create three 2D beam elements:"
   ]
  },
  {
   "cell_type": "code",
   "execution_count": 2,
   "metadata": {
    "execution": {
     "iopub.execute_input": "2024-11-30T20:33:00.833562Z",
     "iopub.status.busy": "2024-11-30T20:33:00.833562Z",
     "iopub.status.idle": "2024-11-30T20:33:00.838385Z",
     "shell.execute_reply": "2024-11-30T20:33:00.838385Z",
     "shell.execute_reply.started": "2024-11-30T20:33:00.833562Z"
    }
   },
   "outputs": [],
   "source": [
    "ops.wipe()\n",
    "ops.model(\"basic\", \"-ndm\", 2, \"-ndf\", 3)\n",
    "ops.node(1, 0, 0)\n",
    "ops.node(2, 0, 2)\n",
    "ops.node(3, 2, 2)\n",
    "\n",
    "ops.geomTransf(\"Linear\", 1)\n",
    "ops.element(\"elasticBeamColumn\", 1, 1, 2, 1000, 10000, 10000, 1)\n",
    "ops.element(\"elasticBeamColumn\", 2, 2, 3, 1000, 10000, 10000, 1)\n",
    "ops.element(\"elasticBeamColumn\", 3, 1, 3, 1000, 10000, 10000, 1)"
   ]
  },
  {
   "cell_type": "markdown",
   "metadata": {},
   "source": [
    "Then, the time series and load pattern are created, followed by the generation of beam element loads using two functions that can easily transform the loads in the global coordinate system to the local coordinate system of each beam element and generate the loads using the [EleLoad Command](https://opensees.berkeley.edu/wiki/index.php/EleLoad_Command) in OpenSees."
   ]
  },
  {
   "cell_type": "raw",
   "metadata": {
    "editable": true,
    "raw_mimetype": "text/restructuredtext",
    "slideshow": {
     "slide_type": ""
    },
    "tags": []
   },
   "source": [
    "API:\n",
    "\n",
    "- :py:func:`opstool.pre.transform_beam_uniform_load`\n",
    "- :py:func:`opstool.pre.transform_beam_point_load`\n",
    "    "
   ]
  },
  {
   "cell_type": "code",
   "execution_count": 3,
   "metadata": {
    "execution": {
     "iopub.execute_input": "2024-11-30T20:33:00.839421Z",
     "iopub.status.busy": "2024-11-30T20:33:00.839421Z",
     "iopub.status.idle": "2024-11-30T20:33:00.848322Z",
     "shell.execute_reply": "2024-11-30T20:33:00.848322Z",
     "shell.execute_reply.started": "2024-11-30T20:33:00.839421Z"
    }
   },
   "outputs": [],
   "source": [
    "ops.timeSeries(\"Linear\", 1)\n",
    "ops.pattern(\"Plain\", 1, 1)\n",
    "\n",
    "opst.pre.transform_beam_uniform_load([1, 2, 3], wy=-2)\n",
    "\n",
    "ops.pattern(\"Plain\", 2, 1)\n",
    "opst.pre.transform_beam_point_load([1, 2, 3], py=-3, xl=0.5)"
   ]
  },
  {
   "cell_type": "markdown",
   "metadata": {},
   "source": [
    "We can check this visually. We can see that our loads are along the global Y axis and they are correctly transformed to each beam element according to their local axes."
   ]
  },
  {
   "cell_type": "code",
   "execution_count": 4,
   "metadata": {
    "execution": {
     "iopub.execute_input": "2024-11-30T20:33:00.849357Z",
     "iopub.status.busy": "2024-11-30T20:33:00.849357Z",
     "iopub.status.idle": "2024-11-30T20:33:02.091840Z",
     "shell.execute_reply": "2024-11-30T20:33:02.091323Z",
     "shell.execute_reply.started": "2024-11-30T20:33:00.849357Z"
    }
   },
   "outputs": [
    {
     "data": {
      "text/html": [
       "<pre style=\"white-space:pre;overflow-x:auto;line-height:normal;font-family:Menlo,'DejaVu Sans Mono',consolas,'Courier New',monospace\"><span style=\"color: #cf6275; text-decoration-color: #cf6275; font-weight: bold\">OPSTOOL</span> <span style=\"color: #12e193; text-decoration-color: #12e193; font-weight: bold\">::</span>  Model data has been saved to <span style=\"color: #2dde98; text-decoration-color: #2dde98; font-weight: bold\">_OPSTOOL_ODB/ModelData-</span><span style=\"color: #2dde98; text-decoration-color: #2dde98; font-weight: bold; font-style: italic\">None</span><span style=\"color: #2dde98; text-decoration-color: #2dde98; font-weight: bold\">.nc</span>!\n",
       "</pre>\n"
      ],
      "text/plain": [
       "\u001b[1;38;2;207;98;117mOPSTOOL\u001b[0m \u001b[1;38;2;18;225;147m::\u001b[0m  Model data has been saved to \u001b[1;38;2;45;222;152m_OPSTOOL_ODB/ModelData-\u001b[0m\u001b[1;3;38;2;45;222;152mNone\u001b[0m\u001b[1;38;2;45;222;152m.nc\u001b[0m!\n"
      ]
     },
     "metadata": {},
     "output_type": "display_data"
    }
   ],
   "source": [
    "fig = opst.vis.plotly.plot_model(\n",
    "    show_ele_loads=True, show_nodal_loads=True, load_scale=2\n",
    ")\n",
    "# fig.show()"
   ]
  },
  {
   "cell_type": "code",
   "execution_count": 5,
   "metadata": {
    "execution": {
     "iopub.execute_input": "2024-11-30T20:33:02.093444Z",
     "iopub.status.busy": "2024-11-30T20:33:02.092349Z",
     "iopub.status.idle": "2024-11-30T20:33:02.114184Z",
     "shell.execute_reply": "2024-11-30T20:33:02.113179Z",
     "shell.execute_reply.started": "2024-11-30T20:33:02.093444Z"
    },
    "nbsphinx": "hidden"
   },
   "outputs": [],
   "source": [
    "fig.write_html(\"images/beamLoad2D_plotly.html\", full_html=False, include_plotlyjs=\"cdn\")"
   ]
  },
  {
   "cell_type": "raw",
   "metadata": {
    "editable": true,
    "raw_mimetype": "text/restructuredtext",
    "slideshow": {
     "slide_type": ""
    },
    "tags": []
   },
   "source": [
    ".. raw:: html\n",
    "   :file: images/beamLoad2D_plotly.html"
   ]
  },
  {
   "cell_type": "markdown",
   "metadata": {},
   "source": [
    "### 3D Case"
   ]
  },
  {
   "cell_type": "code",
   "execution_count": 6,
   "metadata": {
    "execution": {
     "iopub.execute_input": "2024-11-30T20:33:02.116185Z",
     "iopub.status.busy": "2024-11-30T20:33:02.115184Z",
     "iopub.status.idle": "2024-11-30T20:33:02.121691Z",
     "shell.execute_reply": "2024-11-30T20:33:02.121691Z",
     "shell.execute_reply.started": "2024-11-30T20:33:02.116185Z"
    }
   },
   "outputs": [],
   "source": [
    "ops.wipe()\n",
    "ops.model(\"basic\", \"-ndm\", 3, \"-ndf\", 6)\n",
    "ops.node(1, 0, 0, 0)\n",
    "ops.node(2, 0, 2, 0)\n",
    "ops.node(3, 2, 2, 0)\n",
    "ops.node(4, 2, 0, 0)\n",
    "\n",
    "\n",
    "ops.geomTransf(\"Linear\", 1, 0, 0, 1)\n",
    "ops.element(\"elasticBeamColumn\", 1, 1, 2, 1000, 1000, 1000, 1000, 1000, 1000, 1)\n",
    "ops.element(\"elasticBeamColumn\", 2, 2, 3, 1000, 1000, 1000, 1000, 1000, 1000, 1)\n",
    "ops.element(\"elasticBeamColumn\", 3, 3, 4, 1000, 1000, 1000, 1000, 1000, 1000, 1)\n",
    "ops.element(\"elasticBeamColumn\", 4, 4, 1, 1000, 1000, 1000, 1000, 1000, 1000, 1)\n",
    "ops.element(\"elasticBeamColumn\", 5, 1, 3, 1000, 1000, 1000, 1000, 1000, 1000, 1)"
   ]
  },
  {
   "cell_type": "code",
   "execution_count": 7,
   "metadata": {
    "execution": {
     "iopub.execute_input": "2024-11-30T20:33:02.122693Z",
     "iopub.status.busy": "2024-11-30T20:33:02.122693Z",
     "iopub.status.idle": "2024-11-30T20:33:02.130527Z",
     "shell.execute_reply": "2024-11-30T20:33:02.130527Z",
     "shell.execute_reply.started": "2024-11-30T20:33:02.122693Z"
    }
   },
   "outputs": [],
   "source": [
    "ops.timeSeries(\"Linear\", 1)\n",
    "ops.pattern(\"Plain\", 1, 1)\n",
    "\n",
    "opst.pre.transform_beam_uniform_load([1, 2, 3, 4, 5], wy=2, wz=-2)\n",
    "\n",
    "ops.pattern(\"Plain\", 2, 1)\n",
    "opst.pre.transform_beam_point_load([1, 2, 3, 4, 5], py=2, pz=-3, xl=0.5)"
   ]
  },
  {
   "cell_type": "markdown",
   "metadata": {},
   "source": [
    "We can check this visually and see that our loads are correctly transformed into the local axes of each beam element."
   ]
  },
  {
   "cell_type": "code",
   "execution_count": 8,
   "metadata": {
    "execution": {
     "iopub.execute_input": "2024-11-30T20:33:02.131534Z",
     "iopub.status.busy": "2024-11-30T20:33:02.131534Z",
     "iopub.status.idle": "2024-11-30T20:33:02.472533Z",
     "shell.execute_reply": "2024-11-30T20:33:02.472021Z",
     "shell.execute_reply.started": "2024-11-30T20:33:02.131534Z"
    }
   },
   "outputs": [
    {
     "data": {
      "text/html": [
       "<pre style=\"white-space:pre;overflow-x:auto;line-height:normal;font-family:Menlo,'DejaVu Sans Mono',consolas,'Courier New',monospace\"><span style=\"color: #cf6275; text-decoration-color: #cf6275; font-weight: bold\">OPSTOOL</span> <span style=\"color: #12e193; text-decoration-color: #12e193; font-weight: bold\">::</span>  Model data has been saved to <span style=\"color: #ffc168; text-decoration-color: #ffc168; font-weight: bold\">_OPSTOOL_ODB/ModelData-</span><span style=\"color: #ffc168; text-decoration-color: #ffc168; font-weight: bold; font-style: italic\">None</span><span style=\"color: #ffc168; text-decoration-color: #ffc168; font-weight: bold\">.nc</span>!\n",
       "</pre>\n"
      ],
      "text/plain": [
       "\u001b[1;38;2;207;98;117mOPSTOOL\u001b[0m \u001b[1;38;2;18;225;147m::\u001b[0m  Model data has been saved to \u001b[1;38;2;255;193;104m_OPSTOOL_ODB/ModelData-\u001b[0m\u001b[1;3;38;2;255;193;104mNone\u001b[0m\u001b[1;38;2;255;193;104m.nc\u001b[0m!\n"
      ]
     },
     "metadata": {},
     "output_type": "display_data"
    }
   ],
   "source": [
    "fig = opst.vis.plotly.plot_model(\n",
    "    show_ele_loads=True, show_nodal_loads=True, load_scale=2, show_local_axes=True\n",
    ")\n",
    "# fig.show()"
   ]
  },
  {
   "cell_type": "code",
   "execution_count": 9,
   "metadata": {
    "execution": {
     "iopub.execute_input": "2024-11-30T20:33:02.473619Z",
     "iopub.status.busy": "2024-11-30T20:33:02.472533Z",
     "iopub.status.idle": "2024-11-30T20:33:02.500095Z",
     "shell.execute_reply": "2024-11-30T20:33:02.499086Z",
     "shell.execute_reply.started": "2024-11-30T20:33:02.473619Z"
    },
    "nbsphinx": "hidden"
   },
   "outputs": [],
   "source": [
    "fig.write_html(\"images/beamLoad3D_plotly.html\", full_html=False, include_plotlyjs=\"cdn\")"
   ]
  },
  {
   "cell_type": "raw",
   "metadata": {
    "editable": true,
    "raw_mimetype": "text/restructuredtext",
    "slideshow": {
     "slide_type": ""
    },
    "tags": []
   },
   "source": [
    ".. raw:: html\n",
    "   :file: images/beamLoad3D_plotly.html"
   ]
  },
  {
   "cell_type": "markdown",
   "metadata": {
    "vscode": {
     "languageId": "raw"
    }
   },
   "source": [
    "## Surface Load"
   ]
  },
  {
   "cell_type": "markdown",
   "metadata": {},
   "source": [
    "According to the static equivalence principle, the surface distributed load is equivalent to the node load."
   ]
  },
  {
   "cell_type": "code",
   "execution_count": 10,
   "metadata": {},
   "outputs": [],
   "source": [
    "import opstool as opst\n",
    "import openseespy.opensees as ops"
   ]
  },
  {
   "cell_type": "code",
   "execution_count": 11,
   "metadata": {},
   "outputs": [
    {
     "name": "stderr",
     "output_type": "stream",
     "text": [
      "Using ASDShellQ4 - Developed by: Massimo Petracca, Guido Camata, ASDEA Software Technology\n",
      "Using ASDShellT3 - Developed by: Massimo Petracca, Guido Camata, ASDEA Software Technology\n"
     ]
    }
   ],
   "source": [
    "ops.wipe()\n",
    "# set up a 3D-6DOFs model\n",
    "ops.model(\"Basic\", \"-ndm\", 3, \"-ndf\", 6)\n",
    "ops.node(1, 0.0, 0.0, 0.0)\n",
    "ops.node(2, 1.0, 0.0, 0.0)\n",
    "ops.node(3, 1.0, 1.0, 0.0)\n",
    "ops.node(4, 0.0, 1.0, 0.0)\n",
    "\n",
    "ops.node(5, 2.0, 0.0, 0.0)\n",
    "ops.node(6, 2.0, 1.0, 0.0)\n",
    "\n",
    "\n",
    "# create a fiber shell section with 4 layers of material 1\n",
    "# each layer has a thickness = 0.025\n",
    "ops.nDMaterial(\"ElasticIsotropic\", 1, 1000.0, 0.2)\n",
    "ops.section(\"LayeredShell\", 11, 4, 1, 0.025, 1, 0.025, 1, 0.025, 1, 0.025)\n",
    "# create the shell element using the small displacements/rotations assumption\n",
    "ops.element(\"ASDShellQ4\", 1, 1, 2, 3, 4, 11)\n",
    "ops.element(\"ASDShellT3\", 2, 2, 5, 6, 11)\n",
    "ops.element(\"ASDShellT3\", 3, 6, 3, 2, 11)"
   ]
  },
  {
   "cell_type": "raw",
   "metadata": {
    "raw_mimetype": "text/restructuredtext"
   },
   "source": [
    "API:\n",
    "\n",
    "- :py:func:`opstool.pre.transform_surface_uniform_load`"
   ]
  },
  {
   "cell_type": "code",
   "execution_count": 12,
   "metadata": {},
   "outputs": [],
   "source": [
    "ops.timeSeries(\"Linear\", 1)\n",
    "ops.pattern(\"Plain\", 1, 1)\n",
    "\n",
    "opst.pre.transform_surface_uniform_load(ele_tags=[1, 2, 3], p=-1)"
   ]
  },
  {
   "cell_type": "markdown",
   "metadata": {},
   "source": [
    "Since the surface load intensity is 1 and the total area is 2, the total load on the three elements is 2.0. The sum of the nodal loads assigned to all nodes should equal 2.0."
   ]
  },
  {
   "cell_type": "code",
   "execution_count": 13,
   "metadata": {},
   "outputs": [
    {
     "data": {
      "text/html": [
       "<pre style=\"white-space:pre;overflow-x:auto;line-height:normal;font-family:Menlo,'DejaVu Sans Mono',consolas,'Courier New',monospace\"><span style=\"color: #cf6275; text-decoration-color: #cf6275; font-weight: bold\">OPSTOOL</span> <span style=\"color: #12e193; text-decoration-color: #12e193; font-weight: bold\">::</span>  Model data has been saved to <span style=\"color: #0099e5; text-decoration-color: #0099e5; font-weight: bold\">_OPSTOOL_ODB/ModelData-</span><span style=\"color: #0099e5; text-decoration-color: #0099e5; font-weight: bold; font-style: italic\">None</span><span style=\"color: #0099e5; text-decoration-color: #0099e5; font-weight: bold\">.nc</span>!\n",
       "</pre>\n"
      ],
      "text/plain": [
       "\u001b[1;38;2;207;98;117mOPSTOOL\u001b[0m \u001b[1;38;2;18;225;147m::\u001b[0m  Model data has been saved to \u001b[1;38;2;0;153;229m_OPSTOOL_ODB/ModelData-\u001b[0m\u001b[1;3;38;2;0;153;229mNone\u001b[0m\u001b[1;38;2;0;153;229m.nc\u001b[0m!\n"
      ]
     },
     "metadata": {},
     "output_type": "display_data"
    }
   ],
   "source": [
    "fig = opst.vis.plotly.plot_model(\n",
    "    show_nodal_loads=True, load_scale=2, show_local_axes=True\n",
    ")\n",
    "# fig.show()"
   ]
  },
  {
   "cell_type": "code",
   "execution_count": 14,
   "metadata": {
    "nbsphinx": "hidden"
   },
   "outputs": [],
   "source": [
    "fig.write_html(\n",
    "    \"images/surfaceLoad3D_plotly.html\", full_html=False, include_plotlyjs=\"cdn\"\n",
    ")"
   ]
  },
  {
   "cell_type": "raw",
   "metadata": {
    "raw_mimetype": "text/restructuredtext"
   },
   "source": [
    ".. raw:: html\n",
    "   :file: images/surfaceLoad3D_plotly.html"
   ]
  }
 ],
 "metadata": {
  "kernelspec": {
   "display_name": "opstool-dev",
   "language": "python",
   "name": "python3"
  },
  "language_info": {
   "codemirror_mode": {
    "name": "ipython",
    "version": 3
   },
   "file_extension": ".py",
   "mimetype": "text/x-python",
   "name": "python",
   "nbconvert_exporter": "python",
   "pygments_lexer": "ipython3",
   "version": "3.12.7"
  }
 },
 "nbformat": 4,
 "nbformat_minor": 4
}
