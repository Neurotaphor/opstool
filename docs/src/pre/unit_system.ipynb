{
 "cells": [
  {
   "cell_type": "markdown",
   "metadata": {},
   "source": [
    "# Automatic Unit Conversion"
   ]
  },
  {
   "cell_type": "markdown",
   "metadata": {},
   "source": [
    "As we all know, the units should be unified in the finite element analysis.\n",
    "Common basic units include ``length``, ``force``, and ``time``.\n",
    "The units of the base system can be combined in any combination, but other units\n",
    "including ``pressure``, ``stress``, ``mass``, etc.\n",
    "should be unified with base system.\n",
    "In order to facilitate unit processing in the model, ``opstool`` has developed a class that\n",
    "can automatically perform unit conversion based on the basic units you set. \n",
    "\n",
    "For details of the parameters see [opstool.pre.UnitSystem](https://opstool.readthedocs.io/en/stable/src/api/pre.html#opstool.pre.UnitSystem)."
   ]
  },
  {
   "cell_type": "code",
   "execution_count": 1,
   "metadata": {},
   "outputs": [
    {
     "name": "stdout",
     "output_type": "stream",
     "text": [
      "Length: 0.001 1e-06 0.01 1 0.0254 0.3048\n",
      "Force 0.001 1 0.0044482216282509 4.4482216\n",
      "Stress 1000.0 1.0 0.001 6.8947572932000005 6894.7572932\n",
      "Mass 1e-06 0.001 1.0 0.014593902936999999\n"
     ]
    }
   ],
   "source": [
    "import numpy as np\n",
    "import openseespy.opensees as ops\n",
    "\n",
    "import opstool as opst\n",
    "\n",
    "length_unit = \"m\"  # base unit\n",
    "force_unit = \"kN\"  # base unit\n",
    "\n",
    "UNIT = opst.pre.UnitSystem(length=length_unit, force=force_unit)\n",
    "\n",
    "print(\"Length:\", UNIT.mm, UNIT.mm2, UNIT.cm, UNIT.m, UNIT.inch, UNIT.ft)\n",
    "print(\"Force\", UNIT.N, UNIT.kN, UNIT.lbf, UNIT.kip)\n",
    "print(\"Stress\", UNIT.MPa, UNIT.kPa, UNIT.Pa, UNIT.psi, UNIT.ksi)\n",
    "print(\"Mass\", UNIT.g, UNIT.kg, UNIT.ton, UNIT.slug)\n",
    "# print(UNIT)"
   ]
  },
  {
   "cell_type": "markdown",
   "metadata": {},
   "source": [
    "These other units will be automatically converted to the base units you have set!"
   ]
  },
  {
   "cell_type": "markdown",
   "metadata": {},
   "source": [
    "## Truss example"
   ]
  },
  {
   "cell_type": "markdown",
   "metadata": {},
   "source": [
    "Let's look at a truss example.\n",
    "You can set the practical values of structural parameters in the model,\n",
    "and [opstool.pre.UnitSystem](https://opstool.readthedocs.io/en/stable/src/api/pre.html#opstool.pre.UnitSystem) will help you automatically convert to the base unit system you specify.\n"
   ]
  },
  {
   "cell_type": "code",
   "execution_count": 2,
   "metadata": {},
   "outputs": [],
   "source": [
    "def model(UNIT):\n",
    "    ops.wipe()\n",
    "    ops.model(\"basic\", \"-ndm\", 2, \"-ndf\", 2)\n",
    "    # create nodes\n",
    "    ops.node(1, 0, 0)\n",
    "    ops.node(2, 144.0 * UNIT.cm, 0)\n",
    "    ops.node(3, 2.0 * UNIT.m, 0)\n",
    "    ops.node(4, 80.0 * UNIT.cm, 96.0 * UNIT.cm)\n",
    "    ops.mass(4, 100 * UNIT.kg, 100 * UNIT.kg)\n",
    "    # set boundary condition\n",
    "    ops.fix(1, 1, 1)\n",
    "    ops.fix(2, 1, 1)\n",
    "    ops.fix(3, 1, 1)\n",
    "    # define materials\n",
    "    ops.uniaxialMaterial(\"Elastic\", 1, 3000.0 * UNIT.N / UNIT.cm2)\n",
    "    # define elements\n",
    "    ops.element(\"Truss\", 1, 1, 4, 100.0 * UNIT.cm2, 1)\n",
    "    ops.element(\"Truss\", 2, 2, 4, 50.0 * UNIT.cm2, 1)\n",
    "    ops.element(\"Truss\", 3, 3, 4, 50.0 * UNIT.cm2, 1)\n",
    "    # eigen\n",
    "    omega = np.sqrt(ops.eigen(\"-fullGenLapack\", 2))\n",
    "    f = omega / (2 * np.pi)\n",
    "    # create TimeSeries\n",
    "    ops.timeSeries(\"Linear\", 1)\n",
    "    ops.pattern(\"Plain\", 1, 1)\n",
    "    ops.load(4, 10.0 * UNIT.kN, -5.0 * UNIT.kN)\n",
    "\n",
    "    # ------------------------------\n",
    "    # Start of analysis generation\n",
    "    # ------------------------------\n",
    "    ops.system(\"BandSPD\")\n",
    "    ops.numberer(\"RCM\")\n",
    "    ops.constraints(\"Plain\")\n",
    "    ops.integrator(\"LoadControl\", 1.0 / 10)\n",
    "    ops.algorithm(\"Linear\")\n",
    "    ops.analysis(\"Static\")\n",
    "    u = []\n",
    "    forces = []\n",
    "    for _ in range(10):\n",
    "        ops.analyze(1)\n",
    "        u.append(ops.nodeDisp(4))\n",
    "        ops.reactions()\n",
    "        forces.append(ops.nodeReaction(2))\n",
    "    u = np.array(u)\n",
    "    forces = np.array(forces)\n",
    "    return u, forces, f"
   ]
  },
  {
   "cell_type": "markdown",
   "metadata": {},
   "source": [
    "### Results"
   ]
  },
  {
   "cell_type": "markdown",
   "metadata": {},
   "source": [
    "Three Cases:"
   ]
  },
  {
   "cell_type": "code",
   "execution_count": 3,
   "metadata": {},
   "outputs": [
    {
     "name": "stderr",
     "output_type": "stream",
     "text": [
      "WARNING - the 'fullGenLapack' eigen solver is VERY SLOW. Consider using the default eigen solver."
     ]
    }
   ],
   "source": [
    "length_unit1 = \"m\"\n",
    "force_unit1 = \"kN\"\n",
    "UNIT1 = opst.pre.UnitSystem(length=length_unit1, force=force_unit1)\n",
    "u1, forces1, f1 = model(UNIT=UNIT1)\n",
    "\n",
    "length_unit2 = \"cm\"\n",
    "force_unit2 = \"N\"\n",
    "UNIT2 = opst.pre.UnitSystem(length=length_unit2, force=force_unit2)\n",
    "u2, forces2, f2 = model(UNIT=UNIT2)\n",
    "\n",
    "length_unit3 = \"ft\"\n",
    "force_unit3 = \"lbf\"\n",
    "UNIT3 = opst.pre.UnitSystem(length=length_unit3, force=force_unit3)\n",
    "u3, forces3, f3 = model(UNIT=UNIT3)"
   ]
  },
  {
   "cell_type": "markdown",
   "metadata": {},
   "source": [
    "Let's verify it!"
   ]
  },
  {
   "cell_type": "markdown",
   "metadata": {},
   "source": [
    "#### Structure Frequency"
   ]
  },
  {
   "cell_type": "code",
   "execution_count": 4,
   "metadata": {},
   "outputs": [
    {
     "name": "stdout",
     "output_type": "stream",
     "text": [
      "structure frequency 1: [7.05364256 8.28928679]\n",
      "structure frequency 2: [7.05364256 8.28928679]\n",
      "structure frequency 3: [7.05364256 8.28928679]\n"
     ]
    }
   ],
   "source": [
    "print(\"structure frequency 1:\", f1)\n",
    "print(\"structure frequency 2:\", f2)\n",
    "print(\"structure frequency 3:\", f3)"
   ]
  },
  {
   "cell_type": "markdown",
   "metadata": {},
   "source": [
    "The structural frequencies are consistent, it really has nothing to do with the unit system!"
   ]
  },
  {
   "cell_type": "markdown",
   "metadata": {},
   "source": [
    "#### Node 4 Displacement"
   ]
  },
  {
   "cell_type": "code",
   "execution_count": 5,
   "metadata": {},
   "outputs": [
    {
     "name": "stdout",
     "output_type": "stream",
     "text": [
      "Dispalcement at node4:\n",
      "cm/m\n",
      "[[100. 100.]\n",
      " [100. 100.]\n",
      " [100. 100.]\n",
      " [100. 100.]\n",
      " [100. 100.]\n",
      " [100. 100.]\n",
      " [100. 100.]\n",
      " [100. 100.]\n",
      " [100. 100.]\n",
      " [100. 100.]]\n",
      "m/ft\n",
      "[[0.3048 0.3048]\n",
      " [0.3048 0.3048]\n",
      " [0.3048 0.3048]\n",
      " [0.3048 0.3048]\n",
      " [0.3048 0.3048]\n",
      " [0.3048 0.3048]\n",
      " [0.3048 0.3048]\n",
      " [0.3048 0.3048]\n",
      " [0.3048 0.3048]\n",
      " [0.3048 0.3048]]\n"
     ]
    }
   ],
   "source": [
    "print(\"Dispalcement at node4:\")\n",
    "\n",
    "# print(\"Dispalcement at node4 case 1:\", u1, length_unit1)\n",
    "# print(\"Dispalcement at node4 case 2:\", u2, length_unit2)\n",
    "# print(\"Dispalcement at node4 case 3:\", u3, length_unit3)\n",
    "\n",
    "print(f\"{length_unit2}/{length_unit1}\")\n",
    "print(u2 / u1)\n",
    "print(f\"{length_unit1}/{length_unit3}\")\n",
    "print(u1 / u3)"
   ]
  },
  {
   "cell_type": "markdown",
   "metadata": {},
   "source": [
    "1 m = 100 cm\n",
    "\n",
    "1 ft = 0.3048 m"
   ]
  },
  {
   "cell_type": "markdown",
   "metadata": {},
   "source": [
    "#### Node 2 Reactions"
   ]
  },
  {
   "cell_type": "code",
   "execution_count": 6,
   "metadata": {},
   "outputs": [
    {
     "name": "stdout",
     "output_type": "stream",
     "text": [
      "Reaction at node2:\n",
      "N/kN\n",
      "[[1000. 1000.]\n",
      " [1000. 1000.]\n",
      " [1000. 1000.]\n",
      " [1000. 1000.]\n",
      " [1000. 1000.]\n",
      " [1000. 1000.]\n",
      " [1000. 1000.]\n",
      " [1000. 1000.]\n",
      " [1000. 1000.]\n",
      " [1000. 1000.]]\n",
      "lbf/kN\n",
      "[[224.80894244 224.80894244]\n",
      " [224.80894244 224.80894244]\n",
      " [224.80894244 224.80894244]\n",
      " [224.80894244 224.80894244]\n",
      " [224.80894244 224.80894244]\n",
      " [224.80894244 224.80894244]\n",
      " [224.80894244 224.80894244]\n",
      " [224.80894244 224.80894244]\n",
      " [224.80894244 224.80894244]\n",
      " [224.80894244 224.80894244]]\n"
     ]
    }
   ],
   "source": [
    "print(\"Reaction at node2:\")\n",
    "\n",
    "# print(\"Reaction at node2 case 1:\", forces1, force_unit1)\n",
    "# print(\"Reaction at node2 case 2:\", forces2, force_unit2)\n",
    "# print(\"Reaction at node2 case 3:\", forces3, force_unit3)\n",
    "\n",
    "print(f\"{force_unit2}/{force_unit1}\")\n",
    "print(forces2 / forces1)\n",
    "print(f\"{force_unit3}/{force_unit1}\")\n",
    "print(forces3 / forces1)"
   ]
  },
  {
   "cell_type": "markdown",
   "metadata": {},
   "source": [
    "The displacement and force values depend on the base unit system you set up, but they are proportional to each other.\n",
    "Well, the rest is left to you to verify.\n",
    "\n",
    "Remember that you are free to change the base unit system without rewriting the model code."
   ]
  }
 ],
 "metadata": {
  "kernelspec": {
   "display_name": "opstool-dev",
   "language": "python",
   "name": "python3"
  },
  "language_info": {
   "codemirror_mode": {
    "name": "ipython",
    "version": 3
   },
   "file_extension": ".py",
   "mimetype": "text/x-python",
   "name": "python",
   "nbconvert_exporter": "python",
   "pygments_lexer": "ipython3",
   "version": "3.12.9"
  }
 },
 "nbformat": 4,
 "nbformat_minor": 2
}
