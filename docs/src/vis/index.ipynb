{
 "cells": [
  {
   "cell_type": "markdown",
   "metadata": {
    "editable": true,
    "slideshow": {
     "slide_type": ""
    },
    "tags": [],
    "vscode": {
     "languageId": "plaintext"
    }
   },
   "source": [
    "# Visualization"
   ]
  },
  {
   "cell_type": "markdown",
   "metadata": {
    "editable": true,
    "slideshow": {
     "slide_type": ""
    },
    "tags": [],
    "vscode": {
     "languageId": "plaintext"
    }
   },
   "source": [
    "The ``opstool`` currently offers two engines for visualizing models and responses, \n",
    "each with its own strengths and weaknesses.\n",
    "Both engines are custom-tailored to provide nearly identical visualization functionalities for ``OpenSeesPy``."
   ]
  },
  {
   "cell_type": "markdown",
   "metadata": {
    "editable": true,
    "slideshow": {
     "slide_type": ""
    },
    "tags": []
   },
   "source": [
    "## Visualization Based on Plotly"
   ]
  },
  {
   "cell_type": "markdown",
   "metadata": {
    "vscode": {
     "languageId": "plaintext"
    }
   },
   "source": [
    "Refer to the module ``opstool.vis.plotly`` module for details."
   ]
  },
  {
   "cell_type": "markdown",
   "metadata": {
    "editable": true,
    "slideshow": {
     "slide_type": ""
    },
    "tags": [
     "nbsphinx-gallery"
    ]
   },
   "source": [
    "* [Model Geometry (Plotly)](plot_model_plotly.ipynb)\n",
    "* [Eigen (Plotly)](plot_eigen_plotly.ipynb)\n",
    "* [Nodal Responses (Plotly)](plot_nodal_resp_plotly.ipynb)\n",
    "* [Frame Responses (Plotly)](plot_frame_resp_plotly.ipynb)\n",
    "* [Truss Responses (Plotly)](plot_truss_resp_plotly.ipynb)\n",
    "* [Shell Responses (Plotly)](plot_shell_resp_plotly.ipynb)\n",
    "* [Brick Responses (Plotly)](plot_brick_resp_plotly.ipynb)"
   ]
  },
  {
   "cell_type": "markdown",
   "metadata": {
    "editable": true,
    "slideshow": {
     "slide_type": ""
    },
    "tags": [],
    "vscode": {
     "languageId": "plaintext"
    }
   },
   "source": [
    "## Visualization Based on PyVista"
   ]
  },
  {
   "cell_type": "markdown",
   "metadata": {
    "vscode": {
     "languageId": "plaintext"
    }
   },
   "source": [
    "Refer to the module ``opstool.vis.pyvista`` module for details."
   ]
  },
  {
   "cell_type": "markdown",
   "metadata": {
    "editable": true,
    "slideshow": {
     "slide_type": ""
    },
    "tags": [
     "nbsphinx-gallery"
    ],
    "vscode": {
     "languageId": "plaintext"
    }
   },
   "source": [
    "* [Model Geometry (Pyvista)](plot_model_pyvista.ipynb)\n",
    "* [Eigen (Pyvista)](plot_eigen_pyvista.ipynb)\n",
    "* [Nodal Responses (Pyvista)](plot_nodal_resp_pyvista.ipynb)\n",
    "* [Frame Responses (Pyvista)](plot_frame_resp_pyvista.ipynb)\n",
    "* [Truss Responses (Pyvista)](plot_truss_resp_pyvista.ipynb)\n",
    "* [Shell Responses (Pyvista)](plot_shell_resp_pyvista.ipynb)\n",
    "* [Brick Responses (Pyvista)](plot_brick_resp_pyvista.ipynb)"
   ]
  },
  {
   "cell_type": "markdown",
   "metadata": {
    "editable": true,
    "slideshow": {
     "slide_type": ""
    },
    "tags": []
   },
   "source": [
    "## A double-edged sword"
   ]
  },
  {
   "cell_type": "raw",
   "metadata": {
    "editable": true,
    "raw_mimetype": "text/restructuredtext",
    "slideshow": {
     "slide_type": ""
    },
    "tags": []
   },
   "source": [
    "\n",
    "- `PyVista <https://docs.pyvista.org/>`_:\n",
    "\n",
    "    - **Advantages**:\n",
    "\n",
    "        - Excellent for high-quality 3D rendering and visualization of complex geometries.\n",
    "        - Built on top of VTK, making it powerful for advanced mesh analysis.\n",
    "        - Extensive support for various mesh types and integration with computational geometry workflows.\n",
    "        - Fast rendering speed and low memory demand.\n",
    "\n",
    "    - **Disadvantages**:\n",
    "    \n",
    "        - Limited interactivity compared to web-based solutions.\n",
    "\n",
    "- `Plotly <https://plotly.com/python/>`_:\n",
    "\n",
    "    - **Advantages**:\n",
    "\n",
    "        - Interactive and web-ready, making it ideal for sharing visualizations in dashboards or reports.\n",
    "        - Produces visually appealing and refined graphics.\n",
    "\n",
    "    - **Disadvantages**:\n",
    "\n",
    "        - Slower rendering speed and higher memory demand compared to PyVista.\n",
    "        - Less specialized for detailed 3D mesh analysis and complex geometry rendering.\n",
    "\n",
    "\n",
    ".. tip::\n",
    "   In Plotly, only surface rendering is supported. \n",
    "   As a result, solid elements like tetrahedra and hexahedra are visualized using triangulated meshes, \n",
    "   meaning that Plotly does not natively support solid meshes as PyVista does.\n",
    "\n",
    ".. important::\n",
    "    If your model is large or you are demonstrating a dynamic analysis with a very large number of steps, \n",
    "    do not use Plotly's ``slide`` module or attempt to create animations, as it will be extremely slow.\n",
    "    Ensure that ``slides=False``.\n",
    "\n",
    "With these two engines, ``opstool`` ensures flexibility and robust visualization options \n",
    "tailored for ``OpenSeesPy`` users, enabling effective analysis and presentation of structural models and \n",
    "simulation results."
   ]
  }
 ],
 "metadata": {
  "kernelspec": {
   "display_name": "Python 3 (ipykernel)",
   "language": "python",
   "name": "python3"
  },
  "language_info": {
   "codemirror_mode": {
    "name": "ipython",
    "version": 3
   },
   "file_extension": ".py",
   "mimetype": "text/x-python",
   "name": "python",
   "nbconvert_exporter": "python",
   "pygments_lexer": "ipython3",
   "version": "3.12.7"
  }
 },
 "nbformat": 4,
 "nbformat_minor": 4
}
