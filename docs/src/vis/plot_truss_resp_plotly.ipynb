{
 "cells": [
  {
   "cell_type": "markdown",
   "metadata": {
    "editable": true,
    "slideshow": {
     "slide_type": ""
    },
    "tags": []
   },
   "source": [
    "# Truss Element Responses (Plotly)"
   ]
  },
  {
   "cell_type": "code",
   "execution_count": 1,
   "metadata": {
    "editable": true,
    "execution": {
     "iopub.execute_input": "2024-11-22T03:46:18.978757Z",
     "iopub.status.busy": "2024-11-22T03:46:18.977757Z",
     "iopub.status.idle": "2024-11-22T03:46:20.765398Z",
     "shell.execute_reply": "2024-11-22T03:46:20.765398Z",
     "shell.execute_reply.started": "2024-11-22T03:46:18.978757Z"
    },
    "slideshow": {
     "slide_type": ""
    },
    "tags": []
   },
   "outputs": [],
   "source": [
    "import matplotlib.pyplot as plt\n",
    "import openseespy.opensees as ops\n",
    "import opstool as opst\n",
    "import opstool.vis.plotly as opsvis"
   ]
  },
  {
   "cell_type": "code",
   "execution_count": 2,
   "metadata": {
    "editable": true,
    "execution": {
     "iopub.execute_input": "2024-11-22T03:46:20.766401Z",
     "iopub.status.busy": "2024-11-22T03:46:20.766401Z",
     "iopub.status.idle": "2024-11-22T03:46:20.772044Z",
     "shell.execute_reply": "2024-11-22T03:46:20.772044Z",
     "shell.execute_reply.started": "2024-11-22T03:46:20.766401Z"
    },
    "slideshow": {
     "slide_type": ""
    },
    "tags": []
   },
   "outputs": [],
   "source": [
    "opst.load_ops_examples(\"TrussBridge\")  # or your model code here\n",
    "\n",
    "# add loads\n",
    "ops.timeSeries(\"Linear\", 1)\n",
    "ops.pattern(\"Plain\", 1, 1)\n",
    "ops.load(3, 0.0, 0.0, -15000.0)\n",
    "ops.load(4, 0.0, 0.0, -15000.0)\n",
    "ops.load(5, 0.0, 0.0, -15000.0)\n",
    "ops.load(6, 0.0, 0.0, -15000.0)\n",
    "ops.load(7, 0.0, 0.0, -15000.0)\n",
    "ops.load(8, 0.0, 0.0, -15000.0)\n",
    "ops.load(17, 0.0, 0.0, -15000.0)\n",
    "ops.load(18, 0.0, 0.0, -15000.0)\n",
    "ops.load(19, 0.0, 0.0, -15000.0)\n",
    "ops.load(20, 0.0, 0.0, -15000.0)"
   ]
  },
  {
   "cell_type": "code",
   "execution_count": 3,
   "metadata": {
    "editable": true,
    "slideshow": {
     "slide_type": ""
    },
    "tags": []
   },
   "outputs": [
    {
     "data": {
      "text/html": [
       "<pre style=\"white-space:pre;overflow-x:auto;line-height:normal;font-family:Menlo,'DejaVu Sans Mono',consolas,'Courier New',monospace\"><span style=\"color: #cf6275; text-decoration-color: #cf6275; font-weight: bold\">OPSTOOL</span> <span style=\"color: #12e193; text-decoration-color: #12e193; font-weight: bold\">::</span>  Model data has been saved to <span style=\"color: #ce181e; text-decoration-color: #ce181e; font-weight: bold\">_OPSTOOL_ODB/ModelData-</span><span style=\"color: #ce181e; text-decoration-color: #ce181e; font-weight: bold; font-style: italic\">None</span><span style=\"color: #ce181e; text-decoration-color: #ce181e; font-weight: bold\">.nc</span>!\n",
       "</pre>\n"
      ],
      "text/plain": [
       "\u001b[1;38;2;207;98;117mOPSTOOL\u001b[0m \u001b[1;38;2;18;225;147m::\u001b[0m  Model data has been saved to \u001b[1;38;2;206;24;30m_OPSTOOL_ODB/ModelData-\u001b[0m\u001b[1;3;38;2;206;24;30mNone\u001b[0m\u001b[1;38;2;206;24;30m.nc\u001b[0m!\n"
      ]
     },
     "metadata": {},
     "output_type": "display_data"
    }
   ],
   "source": [
    "fig = opsvis.plot_model(show_nodal_loads=True)\n",
    "# fig.show(renderer=\"jupyterlab\")\n",
    "# fig.show(renderer=\"notebook\")\n",
    "# fig.show(renderer=\"browser\")\n",
    "# fig.show()  # for auto\n",
    "# fig.write_html(\"**.html\")"
   ]
  },
  {
   "cell_type": "code",
   "execution_count": 4,
   "metadata": {
    "nbsphinx": "hidden"
   },
   "outputs": [],
   "source": [
    "fig.write_html(\"images/truss_plotly.html\",\n",
    "               full_html=False,\n",
    "               include_plotlyjs=\"cdn\")"
   ]
  },
  {
   "cell_type": "raw",
   "metadata": {
    "editable": true,
    "raw_mimetype": "text/restructuredtext",
    "slideshow": {
     "slide_type": ""
    },
    "tags": []
   },
   "source": [
    ".. raw:: html\n",
    "   :file: images/truss_plotly.html"
   ]
  },
  {
   "cell_type": "code",
   "execution_count": 5,
   "metadata": {
    "execution": {
     "iopub.execute_input": "2024-11-22T03:46:21.562211Z",
     "iopub.status.busy": "2024-11-22T03:46:21.562211Z",
     "iopub.status.idle": "2024-11-22T03:46:21.565756Z",
     "shell.execute_reply": "2024-11-22T03:46:21.565756Z",
     "shell.execute_reply.started": "2024-11-22T03:46:21.562211Z"
    }
   },
   "outputs": [],
   "source": [
    "# ------------------------------\n",
    "# Start of analysis generation\n",
    "# ------------------------------\n",
    "# create SOE\n",
    "Nsteps = 10\n",
    "ops.system(\"ProfileSPD\")\n",
    "# create DOF number\n",
    "ops.numberer(\"Plain\")\n",
    "# create constraint handler\n",
    "ops.constraints(\"Plain\")\n",
    "# create integrator\n",
    "ops.integrator(\"LoadControl\", 1.0 / Nsteps)\n",
    "# create algorithm\n",
    "ops.algorithm(\"Newton\")\n",
    "# create test\n",
    "ops.test(\"NormUnbalance\", 1e-8, 10)\n",
    "# create analysis object\n",
    "ops.analysis(\"Static\")"
   ]
  },
  {
   "cell_type": "code",
   "execution_count": 6,
   "metadata": {
    "execution": {
     "iopub.execute_input": "2024-11-22T03:46:21.566758Z",
     "iopub.status.busy": "2024-11-22T03:46:21.566758Z",
     "iopub.status.idle": "2024-11-22T03:46:24.066867Z",
     "shell.execute_reply": "2024-11-22T03:46:24.065782Z",
     "shell.execute_reply.started": "2024-11-22T03:46:21.566758Z"
    }
   },
   "outputs": [
    {
     "data": {
      "text/html": [
       "<pre style=\"white-space:pre;overflow-x:auto;line-height:normal;font-family:Menlo,'DejaVu Sans Mono',consolas,'Courier New',monospace\"><span style=\"color: #cf6275; text-decoration-color: #cf6275; font-weight: bold\">OPSTOOL</span> <span style=\"color: #12e193; text-decoration-color: #12e193; font-weight: bold\">::</span>  All responses data with odb_tag = <span style=\"color: #008080; text-decoration-color: #008080; font-weight: bold\">1</span> saved in <span style=\"color: #00aeff; text-decoration-color: #00aeff; font-weight: bold\">_OPSTOOL_ODB/RespStepData-</span><span style=\"color: #00aeff; text-decoration-color: #00aeff; font-weight: bold\">1.</span><span style=\"color: #00aeff; text-decoration-color: #00aeff; font-weight: bold\">nc</span>!\n",
       "</pre>\n"
      ],
      "text/plain": [
       "\u001b[1;38;2;207;98;117mOPSTOOL\u001b[0m \u001b[1;38;2;18;225;147m::\u001b[0m  All responses data with odb_tag = \u001b[1;36m1\u001b[0m saved in \u001b[1;38;2;0;174;255m_OPSTOOL_ODB/RespStepData-\u001b[0m\u001b[1;38;2;0;174;255m1.\u001b[0m\u001b[1;38;2;0;174;255mnc\u001b[0m!\n"
      ]
     },
     "metadata": {},
     "output_type": "display_data"
    }
   ],
   "source": [
    "ODB = opst.post.CreateODB(odb_tag=1)\n",
    "for i in range(Nsteps):\n",
    "    ops.analyze(1)\n",
    "    ODB.fetch_response_step()\n",
    "ODB.save_response()"
   ]
  },
  {
   "cell_type": "code",
   "execution_count": 7,
   "metadata": {},
   "outputs": [
    {
     "data": {
      "text/html": [
       "<pre style=\"white-space:pre;overflow-x:auto;line-height:normal;font-family:Menlo,'DejaVu Sans Mono',consolas,'Courier New',monospace\"><span style=\"color: #cf6275; text-decoration-color: #cf6275; font-weight: bold\">OPSTOOL</span> <span style=\"color: #12e193; text-decoration-color: #12e193; font-weight: bold\">::</span>  Loading response data from <span style=\"color: #1cc7d0; text-decoration-color: #1cc7d0; font-weight: bold\">_OPSTOOL_ODB/RespStepData-</span><span style=\"color: #1cc7d0; text-decoration-color: #1cc7d0; font-weight: bold\">1.</span><span style=\"color: #1cc7d0; text-decoration-color: #1cc7d0; font-weight: bold\">nc</span> <span style=\"color: #808000; text-decoration-color: #808000\">...</span>\n",
       "</pre>\n"
      ],
      "text/plain": [
       "\u001b[1;38;2;207;98;117mOPSTOOL\u001b[0m \u001b[1;38;2;18;225;147m::\u001b[0m  Loading response data from \u001b[1;38;2;28;199;208m_OPSTOOL_ODB/RespStepData-\u001b[0m\u001b[1;38;2;28;199;208m1.\u001b[0m\u001b[1;38;2;28;199;208mnc\u001b[0m \u001b[33m...\u001b[0m\n"
      ]
     },
     "metadata": {},
     "output_type": "display_data"
    }
   ],
   "source": [
    "opsvis.set_plot_props(cmap=\"viridis\", point_size=1)\n",
    "fig = opsvis.plot_truss_responses(odb_tag=1,\n",
    "                                  resp_type=\"axialForce\",\n",
    "                                  slides=False,\n",
    "                                  alpha=2.0,\n",
    "                                  line_width=4)\n",
    "# fig.show(renderer=\"jupyterlab\")\n",
    "# fig.show(renderer=\"notebook\")\n",
    "# fig.show(renderer=\"browser\")\n",
    "# fig.show()  # for auto\n",
    "# fig.write_html(\"**.html\")"
   ]
  },
  {
   "cell_type": "code",
   "execution_count": 8,
   "metadata": {
    "nbsphinx": "hidden"
   },
   "outputs": [],
   "source": [
    "fig.write_html(\"images/truss_resp_plotly.html\",\n",
    "               full_html=False,\n",
    "               include_plotlyjs=\"cdn\")"
   ]
  },
  {
   "cell_type": "raw",
   "metadata": {
    "editable": true,
    "raw_mimetype": "text/restructuredtext",
    "slideshow": {
     "slide_type": ""
    },
    "tags": []
   },
   "source": [
    ".. raw:: html\n",
    "   :file: images/truss_resp_plotly.html"
   ]
  }
 ],
 "metadata": {
  "kernelspec": {
   "display_name": "opstool-dev",
   "language": "python",
   "name": "python3"
  },
  "language_info": {
   "codemirror_mode": {
    "name": "ipython",
    "version": 3
   },
   "file_extension": ".py",
   "mimetype": "text/x-python",
   "name": "python",
   "nbconvert_exporter": "python",
   "pygments_lexer": "ipython3",
   "version": "3.12.9"
  }
 },
 "nbformat": 4,
 "nbformat_minor": 4
}
