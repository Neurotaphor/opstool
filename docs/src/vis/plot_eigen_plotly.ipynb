{
 "cells": [
  {
   "cell_type": "markdown",
   "metadata": {
    "editable": true,
    "slideshow": {
     "slide_type": ""
    },
    "tags": []
   },
   "source": [
    "# Eigen (Plotly)"
   ]
  },
  {
   "cell_type": "markdown",
   "metadata": {
    "editable": true,
    "slideshow": {
     "slide_type": ""
    },
    "tags": []
   },
   "source": [
    "The eigenvalue (modal) visualization provides insights into the dynamic characteristics of the structure. It includes the following features:\n",
    "\n",
    "- **Mode Shapes**: Visual representation of how the structure deforms under specific vibration modes.\n",
    "- **Natural Frequencies or Periods**: Display of corresponding frequencies or periods for each mode, enabling detailed analysis of structural dynamics.\n",
    "- **Animation**: Dynamic visualization of the mode shapes to better understand the structural response.\n",
    "\n",
    "Using the visualization tools, you can:\n",
    "\n",
    "1. Analyze the vibration patterns of the structure.\n",
    "2. Identify critical modes that may impact structural performance.\n",
    "3. Evaluate the effectiveness of design modifications in improving dynamic behavior."
   ]
  },
  {
   "cell_type": "code",
   "execution_count": 1,
   "metadata": {
    "editable": true,
    "execution": {
     "iopub.execute_input": "2024-11-22T03:20:37.379172Z",
     "iopub.status.busy": "2024-11-22T03:20:37.379172Z",
     "iopub.status.idle": "2024-11-22T03:20:39.228258Z",
     "shell.execute_reply": "2024-11-22T03:20:39.228258Z",
     "shell.execute_reply.started": "2024-11-22T03:20:37.379172Z"
    },
    "slideshow": {
     "slide_type": ""
    },
    "tags": []
   },
   "outputs": [],
   "source": [
    "import opstool as opst\n",
    "import opstool.vis.plotly as opsvis"
   ]
  },
  {
   "cell_type": "raw",
   "metadata": {
    "editable": true,
    "raw_mimetype": "text/restructuredtext",
    "slideshow": {
     "slide_type": ""
    },
    "tags": []
   },
   "source": [
    "Here, we use a built-in example from ``opstool``, which is an example of a deck arch bridge model primarily composed of frame elements and shell elements."
   ]
  },
  {
   "cell_type": "code",
   "execution_count": 2,
   "metadata": {
    "editable": true,
    "execution": {
     "iopub.execute_input": "2024-11-22T03:20:39.229264Z",
     "iopub.status.busy": "2024-11-22T03:20:39.229264Z",
     "iopub.status.idle": "2024-11-22T03:20:39.236773Z",
     "shell.execute_reply": "2024-11-22T03:20:39.236721Z",
     "shell.execute_reply.started": "2024-11-22T03:20:39.229264Z"
    },
    "slideshow": {
     "slide_type": ""
    },
    "tags": []
   },
   "outputs": [],
   "source": [
    "opst.load_ops_examples(\"ArchBridge2\")\n",
    "# or your model code here"
   ]
  },
  {
   "cell_type": "raw",
   "metadata": {
    "editable": true,
    "raw_mimetype": "text/restructuredtext",
    "slideshow": {
     "slide_type": ""
    },
    "tags": []
   },
   "source": [
    "We use the :func:`opstool.vis.plotly.set_plot_props` function to predefine some common visualization properties, which will affect all subsequent visualizations of models, eigenvalues, and responses."
   ]
  },
  {
   "cell_type": "code",
   "execution_count": 3,
   "metadata": {
    "execution": {
     "iopub.execute_input": "2024-11-22T03:20:39.237723Z",
     "iopub.status.busy": "2024-11-22T03:20:39.237723Z",
     "iopub.status.idle": "2024-11-22T03:20:39.248856Z",
     "shell.execute_reply": "2024-11-22T03:20:39.248856Z",
     "shell.execute_reply.started": "2024-11-22T03:20:39.237723Z"
    }
   },
   "outputs": [],
   "source": [
    "opsvis.set_plot_props(point_size=0, line_width=3, cmap=\"plasma\")"
   ]
  },
  {
   "cell_type": "markdown",
   "metadata": {
    "editable": true,
    "slideshow": {
     "slide_type": ""
    },
    "tags": []
   },
   "source": [
    "## Save the eigen analysis results"
   ]
  },
  {
   "cell_type": "markdown",
   "metadata": {
    "editable": true,
    "raw_mimetype": "",
    "slideshow": {
     "slide_type": ""
    },
    "tags": []
   },
   "source": [
    "Although not mandatory, you can use the ``save_eigen_data`` function to save eigenvalue analysis data, which can help you better understand how `opstool` operates. \n",
    "\n",
    "Parameters:\n",
    "\n",
    "- **odb_tag**: Specifies the label for the output database.\n",
    "- **mode_tag**: Specifies the number of modes to save. Modal data within the range ``[1, mode_tag]`` will be saved."
   ]
  },
  {
   "cell_type": "raw",
   "metadata": {
    "editable": true,
    "raw_mimetype": "text/restructuredtext",
    "slideshow": {
     "slide_type": ""
    },
    "tags": []
   },
   "source": [
    "For detailed usage, please refer to the :func:`opstool.post.save_eigen_data`."
   ]
  },
  {
   "cell_type": "code",
   "execution_count": 4,
   "metadata": {
    "editable": true,
    "execution": {
     "iopub.execute_input": "2024-11-22T03:20:39.249858Z",
     "iopub.status.busy": "2024-11-22T03:20:39.249858Z",
     "iopub.status.idle": "2024-11-22T03:20:39.492452Z",
     "shell.execute_reply": "2024-11-22T03:20:39.492452Z",
     "shell.execute_reply.started": "2024-11-22T03:20:39.249858Z"
    },
    "slideshow": {
     "slide_type": ""
    },
    "tags": []
   },
   "outputs": [
    {
     "name": "stderr",
     "output_type": "stream",
     "text": [
      "Using DomainModalProperties - Developed by: Massimo Petracca, Guido Camata, ASDEA Software Technology\n"
     ]
    },
    {
     "data": {
      "text/html": [
       "<pre style=\"white-space:pre;overflow-x:auto;line-height:normal;font-family:Menlo,'DejaVu Sans Mono',consolas,'Courier New',monospace\"><span style=\"color: #cf6275; text-decoration-color: #cf6275; font-weight: bold\">OPSTOOL</span> <span style=\"color: #12e193; text-decoration-color: #12e193; font-weight: bold\">::</span>  Eigen data has been saved to <span style=\"color: #ce181e; text-decoration-color: #ce181e; font-weight: bold\">_OPSTOOL_ODB/EigenData-</span><span style=\"color: #ce181e; text-decoration-color: #ce181e; font-weight: bold\">1.</span><span style=\"color: #ce181e; text-decoration-color: #ce181e; font-weight: bold\">nc</span>!\n",
       "</pre>\n"
      ],
      "text/plain": [
       "\u001b[1;38;2;207;98;117mOPSTOOL\u001b[0m \u001b[1;38;2;18;225;147m::\u001b[0m  Eigen data has been saved to \u001b[1;38;2;206;24;30m_OPSTOOL_ODB/EigenData-\u001b[0m\u001b[1;38;2;206;24;30m1.\u001b[0m\u001b[1;38;2;206;24;30mnc\u001b[0m!\n"
      ]
     },
     "metadata": {},
     "output_type": "display_data"
    }
   ],
   "source": [
    "opst.post.save_eigen_data(odb_tag=1, mode_tag=6)"
   ]
  },
  {
   "cell_type": "markdown",
   "metadata": {
    "editable": true,
    "slideshow": {
     "slide_type": ""
    },
    "tags": []
   },
   "source": [
    "## modal visualization"
   ]
  },
  {
   "cell_type": "markdown",
   "metadata": {
    "editable": true,
    "jp-MarkdownHeadingCollapsed": true,
    "slideshow": {
     "slide_type": ""
    },
    "tags": []
   },
   "source": [
    "The modal visualization feature allows you to explore the dynamic behavior of structures by visualizing their mode shapes.\n",
    "\n",
    "Parameters:\n",
    "- **`odb_tag`**: Helps identify which database to read the results from.\n",
    "- **`subplots`**: When set to `True`, uses subplots to display multiple mode shapes in a single figure.\n",
    "- **`mode_tags`**: Specifies the modes to visualize.\n",
    "  - For example, `mode_tags=4` visualizes modes `[1, 4]`.\n",
    "  - `mode_tags=[2, 5]` visualizes modes from 2 to 5."
   ]
  },
  {
   "cell_type": "raw",
   "metadata": {
    "editable": true,
    "raw_mimetype": "text/restructuredtext",
    "slideshow": {
     "slide_type": ""
    },
    "tags": []
   },
   "source": [
    ".. Note::\n",
    "    The highest mode number specified in ``mode_tags`` must not exceed the maximum mode number saved using the ``save_eigen_data`` function.This flexibility allows for detailed and customized visualization of the modal data, making it easier to analyze structural behavior."
   ]
  },
  {
   "cell_type": "markdown",
   "metadata": {
    "editable": true,
    "slideshow": {
     "slide_type": ""
    },
    "tags": []
   },
   "source": [
    "### Plot mode shape by subplots"
   ]
  },
  {
   "cell_type": "raw",
   "metadata": {
    "editable": true,
    "raw_mimetype": "text/restructuredtext",
    "slideshow": {
     "slide_type": ""
    },
    "tags": []
   },
   "source": [
    "For detailed parameters and customization options, please refer to the :func:`opstool.vis.plotly.plot_eigen`."
   ]
  },
  {
   "cell_type": "code",
   "execution_count": 5,
   "metadata": {
    "editable": true,
    "execution": {
     "iopub.execute_input": "2024-11-22T03:20:39.493459Z",
     "iopub.status.busy": "2024-11-22T03:20:39.493459Z",
     "iopub.status.idle": "2024-11-22T03:20:40.453590Z",
     "shell.execute_reply": "2024-11-22T03:20:40.453590Z",
     "shell.execute_reply.started": "2024-11-22T03:20:39.493459Z"
    },
    "slideshow": {
     "slide_type": ""
    },
    "tags": []
   },
   "outputs": [
    {
     "data": {
      "text/html": [
       "<pre style=\"white-space:pre;overflow-x:auto;line-height:normal;font-family:Menlo,'DejaVu Sans Mono',consolas,'Courier New',monospace\"><span style=\"color: #cf6275; text-decoration-color: #cf6275; font-weight: bold\">OPSTOOL</span> <span style=\"color: #12e193; text-decoration-color: #12e193; font-weight: bold\">::</span>  Loading eigen data from <span style=\"color: #ffc168; text-decoration-color: #ffc168; font-weight: bold\">_OPSTOOL_ODB/EigenData-</span><span style=\"color: #ffc168; text-decoration-color: #ffc168; font-weight: bold\">1.</span><span style=\"color: #ffc168; text-decoration-color: #ffc168; font-weight: bold\">nc</span> <span style=\"color: #808000; text-decoration-color: #808000\">...</span>\n",
       "</pre>\n"
      ],
      "text/plain": [
       "\u001b[1;38;2;207;98;117mOPSTOOL\u001b[0m \u001b[1;38;2;18;225;147m::\u001b[0m  Loading eigen data from \u001b[1;38;2;255;193;104m_OPSTOOL_ODB/EigenData-\u001b[0m\u001b[1;38;2;255;193;104m1.\u001b[0m\u001b[1;38;2;255;193;104mnc\u001b[0m \u001b[33m...\u001b[0m\n"
      ]
     },
     "metadata": {},
     "output_type": "display_data"
    }
   ],
   "source": [
    "fig = opsvis.plot_eigen(mode_tags=4, odb_tag=1, subplots=True, show_outline=False)\n",
    "# fig.show(renderer=\"jupyterlab\")\n",
    "# fig.show(renderer=\"notebook\")\n",
    "# fig.show(renderer=\"browser\")\n",
    "# fig.show()  # for auto"
   ]
  },
  {
   "cell_type": "code",
   "execution_count": 6,
   "metadata": {
    "nbsphinx": "hidden"
   },
   "outputs": [],
   "source": [
    "fig.write_html(\n",
    "    \"images/eigen_subplots_plotly.html\", full_html=False, include_plotlyjs=\"cdn\"\n",
    ")"
   ]
  },
  {
   "cell_type": "raw",
   "metadata": {
    "editable": true,
    "raw_mimetype": "text/restructuredtext",
    "slideshow": {
     "slide_type": ""
    },
    "tags": []
   },
   "source": [
    ".. raw:: html\n",
    "   :file: images/eigen_subplots_plotly.html"
   ]
  },
  {
   "cell_type": "markdown",
   "metadata": {
    "editable": true,
    "slideshow": {
     "slide_type": ""
    },
    "tags": []
   },
   "source": [
    "### Plot mode shape by slides"
   ]
  },
  {
   "cell_type": "markdown",
   "metadata": {
    "editable": true,
    "slideshow": {
     "slide_type": ""
    },
    "tags": []
   },
   "source": [
    "When ``subplots`` set to `False`, displays the mode shapes as a slideshow, transitioning between modes."
   ]
  },
  {
   "cell_type": "code",
   "execution_count": 7,
   "metadata": {
    "editable": true,
    "execution": {
     "iopub.execute_input": "2024-11-22T03:20:40.455593Z",
     "iopub.status.busy": "2024-11-22T03:20:40.455593Z",
     "iopub.status.idle": "2024-11-22T03:20:40.683906Z",
     "shell.execute_reply": "2024-11-22T03:20:40.683906Z",
     "shell.execute_reply.started": "2024-11-22T03:20:40.455593Z"
    },
    "scrolled": true,
    "slideshow": {
     "slide_type": ""
    },
    "tags": []
   },
   "outputs": [
    {
     "data": {
      "text/html": [
       "<pre style=\"white-space:pre;overflow-x:auto;line-height:normal;font-family:Menlo,'DejaVu Sans Mono',consolas,'Courier New',monospace\"><span style=\"color: #cf6275; text-decoration-color: #cf6275; font-weight: bold\">OPSTOOL</span> <span style=\"color: #12e193; text-decoration-color: #12e193; font-weight: bold\">::</span>  Loading eigen data from <span style=\"color: #34bf49; text-decoration-color: #34bf49; font-weight: bold\">_OPSTOOL_ODB/EigenData-</span><span style=\"color: #34bf49; text-decoration-color: #34bf49; font-weight: bold\">1.</span><span style=\"color: #34bf49; text-decoration-color: #34bf49; font-weight: bold\">nc</span> <span style=\"color: #808000; text-decoration-color: #808000\">...</span>\n",
       "</pre>\n"
      ],
      "text/plain": [
       "\u001b[1;38;2;207;98;117mOPSTOOL\u001b[0m \u001b[1;38;2;18;225;147m::\u001b[0m  Loading eigen data from \u001b[1;38;2;52;191;73m_OPSTOOL_ODB/EigenData-\u001b[0m\u001b[1;38;2;52;191;73m1.\u001b[0m\u001b[1;38;2;52;191;73mnc\u001b[0m \u001b[33m...\u001b[0m\n"
      ]
     },
     "metadata": {},
     "output_type": "display_data"
    }
   ],
   "source": [
    "fig = opsvis.plot_eigen(mode_tags=3, odb_tag=1, subplots=False, show_outline=False)\n",
    "# fig.show(renderer=\"jupyterlab\")\n",
    "# fig.show(renderer=\"notebook\")\n",
    "# fig.show(renderer=\"browser\")\n",
    "# fig.show()  # for auto"
   ]
  },
  {
   "cell_type": "code",
   "execution_count": 8,
   "metadata": {
    "nbsphinx": "hidden"
   },
   "outputs": [],
   "source": [
    "fig.write_html(\n",
    "    \"images/eigen_slides_plotly.html\", full_html=False, include_plotlyjs=\"cdn\"\n",
    ")"
   ]
  },
  {
   "cell_type": "raw",
   "metadata": {
    "editable": true,
    "raw_mimetype": "text/restructuredtext",
    "slideshow": {
     "slide_type": ""
    },
    "tags": []
   },
   "source": [
    ".. raw:: html\n",
    "   :file: images/eigen_slides_plotly.html"
   ]
  },
  {
   "cell_type": "markdown",
   "metadata": {
    "editable": true,
    "slideshow": {
     "slide_type": ""
    },
    "tags": []
   },
   "source": [
    "## Plot mode shape by animation"
   ]
  },
  {
   "cell_type": "markdown",
   "metadata": {
    "editable": true,
    "slideshow": {
     "slide_type": ""
    },
    "tags": []
   },
   "source": [
    "The following example demonstrates how to animate Mode 1:"
   ]
  },
  {
   "cell_type": "code",
   "execution_count": 9,
   "metadata": {
    "editable": true,
    "execution": {
     "iopub.execute_input": "2024-11-22T03:20:40.685908Z",
     "iopub.status.busy": "2024-11-22T03:20:40.684909Z",
     "iopub.status.idle": "2024-11-22T03:20:41.118544Z",
     "shell.execute_reply": "2024-11-22T03:20:41.117535Z",
     "shell.execute_reply.started": "2024-11-22T03:20:40.685908Z"
    },
    "slideshow": {
     "slide_type": ""
    },
    "tags": []
   },
   "outputs": [
    {
     "data": {
      "text/html": [
       "<pre style=\"white-space:pre;overflow-x:auto;line-height:normal;font-family:Menlo,'DejaVu Sans Mono',consolas,'Courier New',monospace\"><span style=\"color: #cf6275; text-decoration-color: #cf6275; font-weight: bold\">OPSTOOL</span> <span style=\"color: #12e193; text-decoration-color: #12e193; font-weight: bold\">::</span>  Loading eigen data from <span style=\"color: #3369e7; text-decoration-color: #3369e7; font-weight: bold\">_OPSTOOL_ODB/EigenData-</span><span style=\"color: #3369e7; text-decoration-color: #3369e7; font-weight: bold\">1.</span><span style=\"color: #3369e7; text-decoration-color: #3369e7; font-weight: bold\">nc</span> <span style=\"color: #808000; text-decoration-color: #808000\">...</span>\n",
       "</pre>\n"
      ],
      "text/plain": [
       "\u001b[1;38;2;207;98;117mOPSTOOL\u001b[0m \u001b[1;38;2;18;225;147m::\u001b[0m  Loading eigen data from \u001b[1;38;2;51;105;231m_OPSTOOL_ODB/EigenData-\u001b[0m\u001b[1;38;2;51;105;231m1.\u001b[0m\u001b[1;38;2;51;105;231mnc\u001b[0m \u001b[33m...\u001b[0m\n"
      ]
     },
     "metadata": {},
     "output_type": "display_data"
    }
   ],
   "source": [
    "fig = opsvis.plot_eigen_animation(mode_tag=1, odb_tag=1, show_outline=False)\n",
    "# fig.show(renderer=\"jupyterlab\")\n",
    "# fig.show(renderer=\"notebook\")\n",
    "# fig.show(renderer=\"browser\")\n",
    "# fig.show()  # for auto"
   ]
  },
  {
   "cell_type": "code",
   "execution_count": 10,
   "metadata": {
    "nbsphinx": "hidden"
   },
   "outputs": [],
   "source": [
    "fig.write_html(\"images/eigen_anim_plotly.html\", full_html=False, include_plotlyjs=\"cdn\")"
   ]
  },
  {
   "cell_type": "raw",
   "metadata": {
    "editable": true,
    "raw_mimetype": "text/restructuredtext",
    "slideshow": {
     "slide_type": ""
    },
    "tags": []
   },
   "source": [
    ".. raw:: html\n",
    "   :file: images/eigen_anim_plotly.html"
   ]
  }
 ],
 "metadata": {
  "kernelspec": {
   "display_name": "Python 3 (ipykernel)",
   "language": "python",
   "name": "python3"
  },
  "language_info": {
   "codemirror_mode": {
    "name": "ipython",
    "version": 3
   },
   "file_extension": ".py",
   "mimetype": "text/x-python",
   "name": "python",
   "nbconvert_exporter": "python",
   "pygments_lexer": "ipython3",
   "version": "3.12.7"
  }
 },
 "nbformat": 4,
 "nbformat_minor": 4
}
