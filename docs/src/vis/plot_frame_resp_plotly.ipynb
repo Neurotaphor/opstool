{
 "cells": [
  {
   "cell_type": "markdown",
   "metadata": {
    "editable": true,
    "execution": {
     "iopub.execute_input": "2024-11-22T03:17:15.615267Z",
     "iopub.status.busy": "2024-11-22T03:17:15.614268Z",
     "iopub.status.idle": "2024-11-22T03:17:15.620081Z",
     "shell.execute_reply": "2024-11-22T03:17:15.619065Z",
     "shell.execute_reply.started": "2024-11-22T03:17:15.614268Z"
    },
    "slideshow": {
     "slide_type": ""
    },
    "tags": []
   },
   "source": [
    "# Frame Element Responses (Plotly)"
   ]
  },
  {
   "cell_type": "code",
   "execution_count": 1,
   "metadata": {
    "editable": true,
    "execution": {
     "iopub.execute_input": "2024-11-22T05:58:06.839360Z",
     "iopub.status.busy": "2024-11-22T05:58:06.839360Z",
     "iopub.status.idle": "2024-11-22T05:58:08.710156Z",
     "shell.execute_reply": "2024-11-22T05:58:08.710156Z",
     "shell.execute_reply.started": "2024-11-22T05:58:06.839360Z"
    },
    "slideshow": {
     "slide_type": ""
    },
    "tags": []
   },
   "outputs": [],
   "source": [
    "import openseespy.opensees as ops\n",
    "import opstool as opst\n",
    "import opstool.vis.plotly as opsvis"
   ]
  },
  {
   "cell_type": "code",
   "execution_count": 2,
   "metadata": {
    "editable": true,
    "execution": {
     "iopub.execute_input": "2024-11-22T05:58:08.711170Z",
     "iopub.status.busy": "2024-11-22T05:58:08.711170Z",
     "iopub.status.idle": "2024-11-22T05:58:08.717366Z",
     "shell.execute_reply": "2024-11-22T05:58:08.716364Z",
     "shell.execute_reply.started": "2024-11-22T05:58:08.711170Z"
    },
    "slideshow": {
     "slide_type": ""
    },
    "tags": []
   },
   "outputs": [],
   "source": [
    "opst.load_ops_examples(\"Frame3D2\")\n",
    "ops.timeSeries(\"Linear\", 1)\n",
    "ops.pattern(\"Plain\", 1, 1)\n",
    "ops.load(6, 10, 0.0, 0.0, 0.0, 0.0, 0.0)\n",
    "ops.load(8, 10, 0.0, 0.0, 0.0, 0.0, 0.0)\n",
    "for etag in [5, 6, 7, 8, 15, 16, 17, 18, 19, 20, 21]:\n",
    "    ops.eleLoad(\"-ele\", etag, \"-type\", \"-beamUniform\", 0.0, -10)"
   ]
  },
  {
   "cell_type": "code",
   "execution_count": 3,
   "metadata": {
    "editable": true,
    "execution": {
     "iopub.execute_input": "2024-11-22T05:58:08.718367Z",
     "iopub.status.busy": "2024-11-22T05:58:08.718367Z",
     "iopub.status.idle": "2024-11-22T05:58:09.913658Z",
     "shell.execute_reply": "2024-11-22T05:58:09.912649Z",
     "shell.execute_reply.started": "2024-11-22T05:58:08.718367Z"
    },
    "slideshow": {
     "slide_type": ""
    },
    "tags": []
   },
   "outputs": [
    {
     "data": {
      "text/html": [
       "<pre style=\"white-space:pre;overflow-x:auto;line-height:normal;font-family:Menlo,'DejaVu Sans Mono',consolas,'Courier New',monospace\"><span style=\"color: #cf6275; text-decoration-color: #cf6275; font-weight: bold\">OPSTOOL</span> <span style=\"color: #12e193; text-decoration-color: #12e193; font-weight: bold\">::</span>  Model data has been saved to <span style=\"color: #ce181e; text-decoration-color: #ce181e; font-weight: bold\">_OPSTOOL_ODB/ModelData-</span><span style=\"color: #ce181e; text-decoration-color: #ce181e; font-weight: bold; font-style: italic\">None</span><span style=\"color: #ce181e; text-decoration-color: #ce181e; font-weight: bold\">.nc</span>!\n",
       "</pre>\n"
      ],
      "text/plain": [
       "\u001b[1;38;2;207;98;117mOPSTOOL\u001b[0m \u001b[1;38;2;18;225;147m::\u001b[0m  Model data has been saved to \u001b[1;38;2;206;24;30m_OPSTOOL_ODB/ModelData-\u001b[0m\u001b[1;3;38;2;206;24;30mNone\u001b[0m\u001b[1;38;2;206;24;30m.nc\u001b[0m!\n"
      ]
     },
     "metadata": {},
     "output_type": "display_data"
    }
   ],
   "source": [
    "fig = opsvis.plot_model(show_nodal_loads=True, show_ele_loads=True)\n",
    "# fig.show(renderer=\"jupyterlab\")\n",
    "# fig.show(renderer=\"notebook\")\n",
    "# fig.show(renderer=\"browser\")\n",
    "# fig.show()  # for auto\n",
    "# fig.write_html(\"**.html\")"
   ]
  },
  {
   "cell_type": "code",
   "execution_count": 4,
   "metadata": {
    "nbsphinx": "hidden"
   },
   "outputs": [],
   "source": [
    "fig.write_html(\"images/frame_plotly.html\", full_html=False, include_plotlyjs=\"cdn\")"
   ]
  },
  {
   "cell_type": "raw",
   "metadata": {
    "editable": true,
    "raw_mimetype": "text/restructuredtext",
    "slideshow": {
     "slide_type": ""
    },
    "tags": []
   },
   "source": [
    ".. raw:: html\n",
    "   :file: images/frame_plotly.html"
   ]
  },
  {
   "cell_type": "code",
   "execution_count": 5,
   "metadata": {
    "execution": {
     "iopub.execute_input": "2024-11-22T05:58:09.916738Z",
     "iopub.status.busy": "2024-11-22T05:58:09.915663Z",
     "iopub.status.idle": "2024-11-22T05:58:09.923599Z",
     "shell.execute_reply": "2024-11-22T05:58:09.922585Z",
     "shell.execute_reply.started": "2024-11-22T05:58:09.915663Z"
    }
   },
   "outputs": [],
   "source": [
    "ops.constraints(\"Transformation\")\n",
    "ops.numberer(\"RCM\")\n",
    "ops.system(\"BandGeneral\")\n",
    "ops.test(\"NormDispIncr\", 1.0e-6, 6, 2)\n",
    "ops.algorithm(\"Linear\")\n",
    "ops.integrator(\"LoadControl\", 0.1)\n",
    "ops.analysis(\"Static\")"
   ]
  },
  {
   "cell_type": "code",
   "execution_count": 6,
   "metadata": {
    "execution": {
     "iopub.execute_input": "2024-11-22T05:58:09.924593Z",
     "iopub.status.busy": "2024-11-22T05:58:09.924593Z",
     "iopub.status.idle": "2024-11-22T05:58:10.292508Z",
     "shell.execute_reply": "2024-11-22T05:58:10.292508Z",
     "shell.execute_reply.started": "2024-11-22T05:58:09.924593Z"
    }
   },
   "outputs": [
    {
     "data": {
      "text/html": [
       "<pre style=\"white-space:pre;overflow-x:auto;line-height:normal;font-family:Menlo,'DejaVu Sans Mono',consolas,'Courier New',monospace\"><span style=\"color: #cf6275; text-decoration-color: #cf6275; font-weight: bold\">OPSTOOL</span> <span style=\"color: #12e193; text-decoration-color: #12e193; font-weight: bold\">::</span>  All responses data with odb_tag = <span style=\"color: #008080; text-decoration-color: #008080; font-weight: bold\">1</span> saved in <span style=\"color: #ff6c5f; text-decoration-color: #ff6c5f; font-weight: bold\">_OPSTOOL_ODB/RespStepData-</span><span style=\"color: #ff6c5f; text-decoration-color: #ff6c5f; font-weight: bold\">1.</span><span style=\"color: #ff6c5f; text-decoration-color: #ff6c5f; font-weight: bold\">nc</span>!\n",
       "</pre>\n"
      ],
      "text/plain": [
       "\u001b[1;38;2;207;98;117mOPSTOOL\u001b[0m \u001b[1;38;2;18;225;147m::\u001b[0m  All responses data with odb_tag = \u001b[1;36m1\u001b[0m saved in \u001b[1;38;2;255;108;95m_OPSTOOL_ODB/RespStepData-\u001b[0m\u001b[1;38;2;255;108;95m1.\u001b[0m\u001b[1;38;2;255;108;95mnc\u001b[0m!\n"
      ]
     },
     "metadata": {},
     "output_type": "display_data"
    }
   ],
   "source": [
    "ODB = opst.post.CreateODB(odb_tag=1)\n",
    "for i in range(10):\n",
    "    ops.analyze(1)\n",
    "    ODB.fetch_response_step()\n",
    "ODB.save_response()"
   ]
  },
  {
   "cell_type": "code",
   "execution_count": 7,
   "metadata": {
    "editable": true,
    "execution": {
     "iopub.execute_input": "2024-11-22T05:58:10.293515Z",
     "iopub.status.busy": "2024-11-22T05:58:10.293515Z",
     "iopub.status.idle": "2024-11-22T05:58:10.519614Z",
     "shell.execute_reply": "2024-11-22T05:58:10.519614Z",
     "shell.execute_reply.started": "2024-11-22T05:58:10.293515Z"
    },
    "slideshow": {
     "slide_type": ""
    },
    "tags": []
   },
   "outputs": [
    {
     "data": {
      "text/html": [
       "<pre style=\"white-space:pre;overflow-x:auto;line-height:normal;font-family:Menlo,'DejaVu Sans Mono',consolas,'Courier New',monospace\"><span style=\"color: #cf6275; text-decoration-color: #cf6275; font-weight: bold\">OPSTOOL</span> <span style=\"color: #12e193; text-decoration-color: #12e193; font-weight: bold\">::</span>  Loading response data from <span style=\"color: #00aeff; text-decoration-color: #00aeff; font-weight: bold\">_OPSTOOL_ODB/RespStepData-</span><span style=\"color: #00aeff; text-decoration-color: #00aeff; font-weight: bold\">1.</span><span style=\"color: #00aeff; text-decoration-color: #00aeff; font-weight: bold\">nc</span> <span style=\"color: #808000; text-decoration-color: #808000\">...</span>\n",
       "</pre>\n"
      ],
      "text/plain": [
       "\u001b[1;38;2;207;98;117mOPSTOOL\u001b[0m \u001b[1;38;2;18;225;147m::\u001b[0m  Loading response data from \u001b[1;38;2;0;174;255m_OPSTOOL_ODB/RespStepData-\u001b[0m\u001b[1;38;2;0;174;255m1.\u001b[0m\u001b[1;38;2;0;174;255mnc\u001b[0m \u001b[33m...\u001b[0m\n"
      ]
     },
     "metadata": {},
     "output_type": "display_data"
    }
   ],
   "source": [
    "opsvis.set_plot_props(cmap=\"jet\", point_size=2.0)\n",
    "opsvis.set_plot_colors(frame=\"black\")\n",
    "\n",
    "\n",
    "fig = opsvis.plot_frame_responses(\n",
    "    odb_tag=1,\n",
    "    slides=False,\n",
    "    resp_type=\"sectionForces\",\n",
    "    resp_dof=\"My\",\n",
    "    scale=3.0,\n",
    "    show_values=True,\n",
    "    line_width=5,\n",
    ")\n",
    "# fig.show(renderer=\"jupyterlab\")\n",
    "# fig.show(renderer=\"notebook\")\n",
    "# fig.show(renderer=\"browser\")\n",
    "# fig.show()  # for auto\n",
    "# fig.write_html(\"**.html\")"
   ]
  },
  {
   "cell_type": "code",
   "execution_count": 8,
   "metadata": {
    "nbsphinx": "hidden"
   },
   "outputs": [],
   "source": [
    "fig.write_html(\"images/frame_resp_plotly.html\", full_html=False, include_plotlyjs=\"cdn\")"
   ]
  },
  {
   "cell_type": "raw",
   "metadata": {
    "editable": true,
    "raw_mimetype": "text/restructuredtext",
    "slideshow": {
     "slide_type": ""
    },
    "tags": []
   },
   "source": [
    ".. raw:: html\n",
    "   :file: images/frame_resp_plotly.html"
   ]
  }
 ],
 "metadata": {
  "kernelspec": {
   "display_name": "opstool-dev",
   "language": "python",
   "name": "python3"
  },
  "language_info": {
   "codemirror_mode": {
    "name": "ipython",
    "version": 3
   },
   "file_extension": ".py",
   "mimetype": "text/x-python",
   "name": "python",
   "nbconvert_exporter": "python",
   "pygments_lexer": "ipython3",
   "version": "3.12.7"
  }
 },
 "nbformat": 4,
 "nbformat_minor": 4
}
