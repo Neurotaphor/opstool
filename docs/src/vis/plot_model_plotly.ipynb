{
 "cells": [
  {
   "cell_type": "markdown",
   "metadata": {
    "editable": true,
    "slideshow": {
     "slide_type": ""
    },
    "tags": []
   },
   "source": [
    "# Model Geometry (Plotly)"
   ]
  },
  {
   "cell_type": "markdown",
   "metadata": {
    "editable": true,
    "slideshow": {
     "slide_type": ""
    },
    "tags": []
   },
   "source": [
    "## A Bridge Example"
   ]
  },
  {
   "cell_type": "raw",
   "metadata": {
    "editable": true,
    "raw_mimetype": "text/restructuredtext",
    "slideshow": {
     "slide_type": ""
    },
    "tags": [],
    "vscode": {
     "languageId": "raw"
    }
   },
   "source": [
    "At any point during model creation, you can run the :func:`opstool.vis.plotly.plot_model` function to visualize the current model's geometric details. \n",
    "This function operates based on post-processed data saved during the modeling process, ensuring accurate visualization.\n",
    "\n",
    "You can use :func:`opstool.vis.plotly.plot_model` anywhere within your model script. \n",
    "It reads the predefined data, such as nodes and elements, and generates a visual representation of the model."
   ]
  },
  {
   "cell_type": "code",
   "execution_count": 1,
   "metadata": {
    "editable": true,
    "execution": {
     "iopub.execute_input": "2024-11-22T05:52:21.444611Z",
     "iopub.status.busy": "2024-11-22T05:52:21.444611Z",
     "iopub.status.idle": "2024-11-22T05:52:23.274917Z",
     "shell.execute_reply": "2024-11-22T05:52:23.274917Z",
     "shell.execute_reply.started": "2024-11-22T05:52:21.444611Z"
    },
    "slideshow": {
     "slide_type": ""
    },
    "tags": []
   },
   "outputs": [],
   "source": [
    "import opstool as opst\n",
    "import opstool.vis.plotly as opsvis"
   ]
  },
  {
   "cell_type": "code",
   "execution_count": 2,
   "metadata": {
    "editable": true,
    "execution": {
     "iopub.execute_input": "2024-11-22T05:52:23.275925Z",
     "iopub.status.busy": "2024-11-22T05:52:23.275925Z",
     "iopub.status.idle": "2024-11-22T05:52:23.283546Z",
     "shell.execute_reply": "2024-11-22T05:52:23.283546Z",
     "shell.execute_reply.started": "2024-11-22T05:52:23.275925Z"
    },
    "slideshow": {
     "slide_type": ""
    },
    "tags": []
   },
   "outputs": [],
   "source": [
    "opst.load_ops_examples(\"ArchBridge2\")\n",
    "# or your model code here"
   ]
  },
  {
   "cell_type": "raw",
   "metadata": {
    "editable": true,
    "raw_mimetype": "text/restructuredtext",
    "slideshow": {
     "slide_type": ""
    },
    "tags": []
   },
   "source": [
    "Here, we use a built-in example from ``opstool``, which is an example of a deck arch bridge model primarily composed of frame elements and shell elements.\n",
    "For your own model script, simply place the :func:`opstool.vis.plotly.plot_model` function anywhere you need visualization."
   ]
  },
  {
   "cell_type": "markdown",
   "metadata": {
    "editable": true,
    "slideshow": {
     "slide_type": ""
    },
    "tags": []
   },
   "source": [
    "### Saving Model Data (Optional)"
   ]
  },
  {
   "cell_type": "code",
   "execution_count": 3,
   "metadata": {
    "editable": true,
    "execution": {
     "iopub.execute_input": "2024-11-22T05:52:23.285060Z",
     "iopub.status.busy": "2024-11-22T05:52:23.285060Z",
     "iopub.status.idle": "2024-11-22T05:52:23.486267Z",
     "shell.execute_reply": "2024-11-22T05:52:23.486267Z",
     "shell.execute_reply.started": "2024-11-22T05:52:23.285060Z"
    },
    "slideshow": {
     "slide_type": ""
    },
    "tags": []
   },
   "outputs": [
    {
     "data": {
      "text/html": [
       "<pre style=\"white-space:pre;overflow-x:auto;line-height:normal;font-family:Menlo,'DejaVu Sans Mono',consolas,'Courier New',monospace\"><span style=\"color: #cf6275; text-decoration-color: #cf6275; font-weight: bold\">OPSTOOL</span> <span style=\"color: #12e193; text-decoration-color: #12e193; font-weight: bold\">::</span>  Model data has been saved to <span style=\"color: #0099e5; text-decoration-color: #0099e5; font-weight: bold\">_OPSTOOL_ODB/ModelData-</span><span style=\"color: #0099e5; text-decoration-color: #0099e5; font-weight: bold\">1.</span><span style=\"color: #0099e5; text-decoration-color: #0099e5; font-weight: bold\">nc</span>!\n",
       "</pre>\n"
      ],
      "text/plain": [
       "\u001b[1;38;2;207;98;117mOPSTOOL\u001b[0m \u001b[1;38;2;18;225;147m::\u001b[0m  Model data has been saved to \u001b[1;38;2;0;153;229m_OPSTOOL_ODB/ModelData-\u001b[0m\u001b[1;38;2;0;153;229m1.\u001b[0m\u001b[1;38;2;0;153;229mnc\u001b[0m!\n"
      ]
     },
     "metadata": {},
     "output_type": "display_data"
    }
   ],
   "source": [
    "opst.post.save_model_data(odb_tag=1)"
   ]
  },
  {
   "cell_type": "raw",
   "metadata": {
    "editable": true,
    "raw_mimetype": "text/restructuredtext",
    "slideshow": {
     "slide_type": ""
    },
    "tags": []
   },
   "source": [
    "We can first save the model geometry data by assigning a unique label to the result database using the parameter\n",
    "**`odb_tag`**. \n",
    "This label is used to identify the data. \n",
    "For more details, see :func:`opstool.post.save_model_data`."
   ]
  },
  {
   "cell_type": "markdown",
   "metadata": {
    "editable": true,
    "slideshow": {
     "slide_type": ""
    },
    "tags": []
   },
   "source": [
    "### Visualization"
   ]
  },
  {
   "cell_type": "raw",
   "metadata": {
    "editable": true,
    "raw_mimetype": "text/restructuredtext",
    "slideshow": {
     "slide_type": ""
    },
    "tags": []
   },
   "source": [
    "We use the :func:`opstool.vis.plotly.set_plot_props` function to predefine some common visualization properties, which will affect all subsequent visualizations of models, eigenvalues, and responses."
   ]
  },
  {
   "cell_type": "code",
   "execution_count": 4,
   "metadata": {
    "editable": true,
    "execution": {
     "iopub.execute_input": "2024-11-22T05:52:23.488270Z",
     "iopub.status.busy": "2024-11-22T05:52:23.487279Z",
     "iopub.status.idle": "2024-11-22T05:52:23.490756Z",
     "shell.execute_reply": "2024-11-22T05:52:23.490756Z",
     "shell.execute_reply.started": "2024-11-22T05:52:23.488270Z"
    },
    "slideshow": {
     "slide_type": ""
    },
    "tags": []
   },
   "outputs": [],
   "source": [
    "opsvis.set_plot_props(point_size=0, line_width=3)"
   ]
  },
  {
   "cell_type": "raw",
   "metadata": {
    "editable": true,
    "raw_mimetype": "text/restructuredtext",
    "slideshow": {
     "slide_type": ""
    },
    "tags": []
   },
   "source": [
    "Visualization is straightforward; simply call the :func:`opstool.vis.plotly.plot_model` function. \n",
    "The **`odb_tag`** parameter helps you identify which dataset to use. \n",
    "For details on various parameters, refer to the :func:`opstool.vis.plotly.plot_model`."
   ]
  },
  {
   "cell_type": "code",
   "execution_count": 5,
   "metadata": {
    "editable": true,
    "execution": {
     "iopub.execute_input": "2024-11-22T05:52:36.592569Z",
     "iopub.status.busy": "2024-11-22T05:52:36.592569Z",
     "iopub.status.idle": "2024-11-22T05:52:36.726960Z",
     "shell.execute_reply": "2024-11-22T05:52:36.726960Z",
     "shell.execute_reply.started": "2024-11-22T05:52:36.592569Z"
    },
    "slideshow": {
     "slide_type": ""
    },
    "tags": []
   },
   "outputs": [
    {
     "data": {
      "text/html": [
       "<pre style=\"white-space:pre;overflow-x:auto;line-height:normal;font-family:Menlo,'DejaVu Sans Mono',consolas,'Courier New',monospace\"><span style=\"color: #cf6275; text-decoration-color: #cf6275; font-weight: bold\">OPSTOOL</span> <span style=\"color: #12e193; text-decoration-color: #12e193; font-weight: bold\">::</span>  Loading model data from <span style=\"color: #ff4c4c; text-decoration-color: #ff4c4c; font-weight: bold\">_OPSTOOL_ODB/ModelData-</span><span style=\"color: #ff4c4c; text-decoration-color: #ff4c4c; font-weight: bold\">1.</span><span style=\"color: #ff4c4c; text-decoration-color: #ff4c4c; font-weight: bold\">nc</span> <span style=\"color: #808000; text-decoration-color: #808000\">...</span>\n",
       "</pre>\n"
      ],
      "text/plain": [
       "\u001b[1;38;2;207;98;117mOPSTOOL\u001b[0m \u001b[1;38;2;18;225;147m::\u001b[0m  Loading model data from \u001b[1;38;2;255;76;76m_OPSTOOL_ODB/ModelData-\u001b[0m\u001b[1;38;2;255;76;76m1.\u001b[0m\u001b[1;38;2;255;76;76mnc\u001b[0m \u001b[33m...\u001b[0m\n"
      ]
     },
     "metadata": {},
     "output_type": "display_data"
    }
   ],
   "source": [
    "fig = opsvis.plot_model(odb_tag=1, show_outline=True)\n",
    "# fig.show(renderer=\"jupyterlab\")\n",
    "# fig.show(renderer=\"notebook\")\n",
    "# fig.show(renderer=\"browser\")\n",
    "# fig.show()  # for auto\n",
    "# fig.write_html(\"**.html\")"
   ]
  },
  {
   "cell_type": "code",
   "execution_count": null,
   "metadata": {
    "editable": true,
    "nbsphinx": "hidden",
    "slideshow": {
     "slide_type": ""
    },
    "tags": []
   },
   "outputs": [],
   "source": [
    "fig.write_html(\"images/model_plotly.html\", full_html=False, include_plotlyjs=\"cdn\")"
   ]
  },
  {
   "cell_type": "raw",
   "metadata": {
    "editable": true,
    "raw_mimetype": "text/restructuredtext",
    "slideshow": {
     "slide_type": ""
    },
    "tags": []
   },
   "source": [
    ".. raw:: html\n",
    "   :file: images/model_plotly.html"
   ]
  },
  {
   "cell_type": "raw",
   "metadata": {
    "editable": true,
    "raw_mimetype": "text/restructuredtext",
    "slideshow": {
     "slide_type": ""
    },
    "tags": []
   },
   "source": [
    "The function :func:`opstool.vis.plotly.plot_model` returns a `Plotly Figure <https://plotly.com/python-api-reference/generated/plotly.graph_objects.Figure.html>`_ object, which you can visualize using the `show` method.\n",
    "In this example, the rendering mode is set to `notebook`, allowing the figure to be embedded directly within a Jupyter Notebook. \n",
    "If you want it to automatically choose the rendering mode, simply call `show` without providing any arguments.\n",
    "For more details on the available `renderer`, please refer to `Displaying Figures in Python <https://plotly.com/python/renderers/>`_"
   ]
  }
 ],
 "metadata": {
  "kernelspec": {
   "display_name": "Python 3 (ipykernel)",
   "language": "python",
   "name": "python3"
  },
  "language_info": {
   "codemirror_mode": {
    "name": "ipython",
    "version": 3
   },
   "file_extension": ".py",
   "mimetype": "text/x-python",
   "name": "python",
   "nbconvert_exporter": "python",
   "pygments_lexer": "ipython3",
   "version": "3.12.7"
  }
 },
 "nbformat": 4,
 "nbformat_minor": 4
}
